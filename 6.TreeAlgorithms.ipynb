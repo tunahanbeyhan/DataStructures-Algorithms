{
 "cells": [
  {
   "cell_type": "code",
   "execution_count": 1,
   "id": "5e0f98c4",
   "metadata": {},
   "outputs": [],
   "source": [
    "#Tree algorithms refer to a variety of algorithms that operate on tree data structures. \n",
    "#These algorithms aim to solve specific problems or perform various operations within the context of trees.\n",
    "#Sometimes, using searching algorithms in trees may be so helpful.\n",
    "\n",
    "#Tree Traversal:\n",
    "\n",
    "#BFS(Breadth First Search): Visits the root level by level, from left to right using queue.\n",
    "\n",
    "#DFS(Pre-order): Visits the root node, then recursively traverses the left and right subtrees.\n",
    "#i.e: Parent->Left->Right\n",
    "#DFS(In-order): Recursively traverses the left subtree, visits the root node, and then recursively traverses the right subtree.\n",
    "#i.e: Left->Parent->Right\n",
    "#DFS(Post-order): Recursively traverses the left and right subtrees and then visits the root node.\n",
    "#i.e: Left->Right->Parent"
   ]
  },
  {
   "cell_type": "code",
   "execution_count": 2,
   "id": "c26bec8c",
   "metadata": {},
   "outputs": [],
   "source": [
    "#Tree Codes\n",
    "class Node():\n",
    "    \n",
    "    def __init__(self, value):\n",
    "        self.value = value\n",
    "        self.left = None\n",
    "        self.right = None\n",
    "        \n",
    "class BinarySearchTree():\n",
    "    \n",
    "    def __init__(self):\n",
    "        self.root = None\n",
    "    \n",
    "    def insert(self, value):\n",
    "        newNode = Node(value)\n",
    "        if self.root is None:\n",
    "            self.root = newNode\n",
    "            return True\n",
    "        tempNode = self.root\n",
    "        while True:\n",
    "            if tempNode.value > value:\n",
    "                if tempNode.left is None:\n",
    "                    tempNode.left = newNode\n",
    "                    return True\n",
    "                tempNode = tempNode.left\n",
    "            elif tempNode.value < value:\n",
    "                if tempNode.right is None:\n",
    "                    tempNode.right = newNode\n",
    "                    return True\n",
    "                tempNode = tempNode.right\n",
    "            else:\n",
    "                return False\n",
    "    \n",
    "    def contains(self, value):\n",
    "        tempNode = self.root\n",
    "        \n",
    "        while tempNode:\n",
    "            if tempNode.value > value:\n",
    "                tempNode = tempNode.left\n",
    "            elif tempNode.value < value:\n",
    "                tempNode = tempNode.right\n",
    "            else:\n",
    "                return True\n",
    "        return False\n",
    "            \n",
    "    \n",
    "    def minofnode(self, givenNode):\n",
    "        while givenNode.left:\n",
    "            givenNode = givenNode.left\n",
    "        return givenNode.value\n",
    "        \n",
    "    \n",
    "    def maxofnode(self, givenNode):\n",
    "        while givenNode.right:\n",
    "            givenNode = givenNode.right\n",
    "        return givenNode.value\n",
    "    \n",
    "    #BFS Code\n",
    "    def BFS(self):\n",
    "        result = []\n",
    "        myQueue = []\n",
    "        myQueue.append(self.root)\n",
    "        while len(myQueue) > 0:\n",
    "            currentNode = myQueue.pop(0)\n",
    "            result.append(currentNode.value)\n",
    "            if currentNode.left:\n",
    "                myQueue.append(currentNode.left)\n",
    "            if currentNode.right:\n",
    "                myQueue.append(currentNode.right)\n",
    "        return result\n",
    "    \n",
    "    #DFS Code\n",
    "    def DFS(self, order):\n",
    "        result = []\n",
    "        \n",
    "        if order == \"preorder\":\n",
    "            def traverse(currentNode):\n",
    "                result.append(currentNode.value)\n",
    "                if currentNode.left:\n",
    "                    traverse(currentNode.left)\n",
    "                if currentNode.right:\n",
    "                    traverse(currentNode.right)\n",
    "        \n",
    "        elif order == \"inorder\":\n",
    "            def traverse(currentNode):\n",
    "                if currentNode.left:\n",
    "                    traverse(currentNode.left)\n",
    "                result.append(currentNode.value)\n",
    "                if currentNode.right:\n",
    "                    traverse(currentNode.right)\n",
    "        \n",
    "        elif order == \"postorder\":\n",
    "            def traverse(currentNode):\n",
    "                if currentNode.left:\n",
    "                    traverse(currentNode.left)\n",
    "                if currentNode.right:\n",
    "                    traverse(currentNode.right)\n",
    "                result.append(currentNode.value)\n",
    "        \n",
    "        else:\n",
    "            return (\"Invalid order! Type 'pre'/'inorder/post'!\\n\")\n",
    "        \n",
    "        traverse(self.root)\n",
    "        return result"
   ]
  },
  {
   "cell_type": "code",
   "execution_count": 3,
   "id": "7196ac52",
   "metadata": {},
   "outputs": [
    {
     "data": {
      "text/plain": [
       "True"
      ]
     },
     "execution_count": 3,
     "metadata": {},
     "output_type": "execute_result"
    }
   ],
   "source": [
    "myBST = BinarySearchTree()\n",
    "myBST.insert(4)\n",
    "myBST.insert(1)\n",
    "myBST.insert(6)\n",
    "myBST.insert(0)\n",
    "myBST.insert(2)\n",
    "myBST.insert(3)\n",
    "myBST.insert(5)\n",
    "myBST.insert(7)\n",
    "myBST.insert(8)"
   ]
  },
  {
   "cell_type": "code",
   "execution_count": 4,
   "id": "694d2f89",
   "metadata": {},
   "outputs": [
    {
     "data": {
      "text/plain": [
       "8"
      ]
     },
     "execution_count": 4,
     "metadata": {},
     "output_type": "execute_result"
    }
   ],
   "source": [
    "myBST.root.right.right.right.value"
   ]
  },
  {
   "cell_type": "code",
   "execution_count": 5,
   "id": "da3817ed",
   "metadata": {},
   "outputs": [
    {
     "data": {
      "text/plain": [
       "[4, 1, 6, 0, 2, 5, 7, 3, 8]"
      ]
     },
     "execution_count": 5,
     "metadata": {},
     "output_type": "execute_result"
    }
   ],
   "source": [
    "myBST.BFS()"
   ]
  },
  {
   "cell_type": "code",
   "execution_count": 6,
   "id": "beba8a5e",
   "metadata": {},
   "outputs": [
    {
     "data": {
      "text/plain": [
       "[4, 1, 0, 2, 3, 6, 5, 7, 8]"
      ]
     },
     "execution_count": 6,
     "metadata": {},
     "output_type": "execute_result"
    }
   ],
   "source": [
    "myBST.DFS(\"preorder\")"
   ]
  },
  {
   "cell_type": "code",
   "execution_count": 7,
   "id": "8e3f6f3e",
   "metadata": {},
   "outputs": [
    {
     "data": {
      "text/plain": [
       "[0, 1, 2, 3, 4, 5, 6, 7, 8]"
      ]
     },
     "execution_count": 7,
     "metadata": {},
     "output_type": "execute_result"
    }
   ],
   "source": [
    "myBST.DFS(\"inorder\")"
   ]
  },
  {
   "cell_type": "code",
   "execution_count": 8,
   "id": "b5edebb1",
   "metadata": {},
   "outputs": [
    {
     "data": {
      "text/plain": [
       "[0, 3, 2, 1, 5, 8, 7, 6, 4]"
      ]
     },
     "execution_count": 8,
     "metadata": {},
     "output_type": "execute_result"
    }
   ],
   "source": [
    "myBST.DFS(\"postorder\")"
   ]
  },
  {
   "cell_type": "code",
   "execution_count": 9,
   "id": "7ee79e26",
   "metadata": {},
   "outputs": [],
   "source": [
    "#1.BST to Greater Tree"
   ]
  },
  {
   "cell_type": "code",
   "execution_count": 10,
   "id": "836bd48b",
   "metadata": {},
   "outputs": [
    {
     "data": {
      "text/plain": [
       "4"
      ]
     },
     "execution_count": 10,
     "metadata": {},
     "output_type": "execute_result"
    }
   ],
   "source": [
    "myBST.root.value"
   ]
  },
  {
   "cell_type": "code",
   "execution_count": 11,
   "id": "685a55bb",
   "metadata": {},
   "outputs": [],
   "source": [
    "def greaterTree(root):\n",
    "    totalsum = 0\n",
    "    def traverse(node):\n",
    "        nonlocal totalsum\n",
    "        if node is None:\n",
    "            return None\n",
    "        traverse(node.right)\n",
    "        totalsum += node.value\n",
    "        node.value = totalsum\n",
    "        traverse(node.left)\n",
    "    traverse(root)\n",
    "    return root"
   ]
  },
  {
   "cell_type": "code",
   "execution_count": 12,
   "id": "94667d15",
   "metadata": {},
   "outputs": [],
   "source": [
    "greater_tree = greaterTree(myBST.root)"
   ]
  },
  {
   "cell_type": "code",
   "execution_count": 13,
   "id": "72deea09",
   "metadata": {},
   "outputs": [
    {
     "data": {
      "text/plain": [
       "30"
      ]
     },
     "execution_count": 13,
     "metadata": {},
     "output_type": "execute_result"
    }
   ],
   "source": [
    "greater_tree.value"
   ]
  },
  {
   "cell_type": "code",
   "execution_count": 14,
   "id": "6e177821",
   "metadata": {},
   "outputs": [],
   "source": [
    "def printTree(node):\n",
    "    myString = \"\"\n",
    "    if node is None:\n",
    "        return myString\n",
    "    myString += printTree(node.left)\n",
    "    myString += str(node.value) + \" -> \"\n",
    "    myString += printTree(node.right)\n",
    "    return myString"
   ]
  },
  {
   "cell_type": "code",
   "execution_count": 15,
   "id": "a6a292fb",
   "metadata": {},
   "outputs": [
    {
     "data": {
      "text/plain": [
       "'36 -> 36 -> 35 -> 33 -> 30 -> 26 -> 21 -> 15 -> 8'"
      ]
     },
     "execution_count": 15,
     "metadata": {},
     "output_type": "execute_result"
    }
   ],
   "source": [
    "printTree(greater_tree)[:-4]"
   ]
  },
  {
   "cell_type": "code",
   "execution_count": 16,
   "id": "6b646e9c",
   "metadata": {},
   "outputs": [],
   "source": [
    "#2.Binary Tree Max Path Sum"
   ]
  },
  {
   "cell_type": "code",
   "execution_count": 17,
   "id": "551ae34b",
   "metadata": {},
   "outputs": [],
   "source": [
    "class Solution():\n",
    "    \n",
    "    def MaxPathSum(self, root):\n",
    "        self.maxsum = float(\"-inf\")\n",
    "        self.helper(root)\n",
    "        return self.maxsum\n",
    "    \n",
    "    def helper(self, node):\n",
    "        if node is None:\n",
    "            return 0\n",
    "        left_sum = max(0, self.helper(node.left))\n",
    "        right_sum = max(0, self.helper(node.right))\n",
    "        current_sum = node.value + left_sum + right_sum\n",
    "        self.maxsum = max(self.maxsum, current_sum)\n",
    "        return node.value + max(left_sum, right_sum) "
   ]
  },
  {
   "cell_type": "code",
   "execution_count": 18,
   "id": "83ba44b2",
   "metadata": {},
   "outputs": [],
   "source": [
    "solution = Solution()"
   ]
  },
  {
   "cell_type": "code",
   "execution_count": 19,
   "id": "82379e17",
   "metadata": {},
   "outputs": [
    {
     "data": {
      "text/plain": [
       "181"
      ]
     },
     "execution_count": 19,
     "metadata": {},
     "output_type": "execute_result"
    }
   ],
   "source": [
    "solution.MaxPathSum(greater_tree)"
   ]
  }
 ],
 "metadata": {
  "kernelspec": {
   "display_name": "Python 3 (ipykernel)",
   "language": "python",
   "name": "python3"
  },
  "language_info": {
   "codemirror_mode": {
    "name": "ipython",
    "version": 3
   },
   "file_extension": ".py",
   "mimetype": "text/x-python",
   "name": "python",
   "nbconvert_exporter": "python",
   "pygments_lexer": "ipython3",
   "version": "3.10.9"
  }
 },
 "nbformat": 4,
 "nbformat_minor": 5
}
