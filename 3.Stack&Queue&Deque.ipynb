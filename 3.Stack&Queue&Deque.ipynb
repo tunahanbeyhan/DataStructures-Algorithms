{
 "cells": [
  {
   "cell_type": "code",
   "execution_count": 1,
   "id": "ff18a5ab",
   "metadata": {},
   "outputs": [],
   "source": [
    "#Stack, Queue ve Deque: All are collection type data structures, have different properties and principles.\n",
    "#Stack: Ordered, LIFO (Last in First Out), Top ve Base, Like stack of plates, methods=PUSH&POP.\n",
    "#Queue: Ordered, FIFO (First in First Out), Front ve Rear, Like people waiting in line, methods=ENQUEUE&DEQUEUE\n",
    "#Deque: Ordered, Double-ended Queue, Front ve Rear, methods=ADD&REMOVE for both ends."
   ]
  },
  {
   "cell_type": "code",
   "execution_count": 2,
   "id": "901e9464",
   "metadata": {},
   "outputs": [],
   "source": [
    "#Stack\n",
    "from queue import LifoQueue\n",
    "mystack = LifoQueue()"
   ]
  },
  {
   "cell_type": "code",
   "execution_count": 3,
   "id": "56eb4f79",
   "metadata": {},
   "outputs": [],
   "source": [
    "mystack.put(10)\n",
    "mystack.put(20)\n",
    "mystack.put(30)\n",
    "mystack.put(40)\n",
    "mystack.put(50)"
   ]
  },
  {
   "cell_type": "code",
   "execution_count": 4,
   "id": "602b5ef6",
   "metadata": {},
   "outputs": [
    {
     "data": {
      "text/plain": [
       "[10, 20, 30, 40, 50]"
      ]
     },
     "execution_count": 4,
     "metadata": {},
     "output_type": "execute_result"
    }
   ],
   "source": [
    "mystack.queue"
   ]
  },
  {
   "cell_type": "code",
   "execution_count": 5,
   "id": "9c28c85b",
   "metadata": {},
   "outputs": [
    {
     "data": {
      "text/plain": [
       "50"
      ]
     },
     "execution_count": 5,
     "metadata": {},
     "output_type": "execute_result"
    }
   ],
   "source": [
    "mystack.get()"
   ]
  },
  {
   "cell_type": "code",
   "execution_count": 6,
   "id": "661ed914",
   "metadata": {},
   "outputs": [
    {
     "data": {
      "text/plain": [
       "[10, 20, 30, 40]"
      ]
     },
     "execution_count": 6,
     "metadata": {},
     "output_type": "execute_result"
    }
   ],
   "source": [
    "mystack.queue"
   ]
  },
  {
   "cell_type": "code",
   "execution_count": 7,
   "id": "4e75de90",
   "metadata": {},
   "outputs": [],
   "source": [
    "#Queue\n",
    "from queue import Queue"
   ]
  },
  {
   "cell_type": "code",
   "execution_count": 8,
   "id": "d0a16659",
   "metadata": {},
   "outputs": [],
   "source": [
    "myqueue = Queue()"
   ]
  },
  {
   "cell_type": "code",
   "execution_count": 9,
   "id": "8d14a248",
   "metadata": {},
   "outputs": [],
   "source": [
    "myqueue.put(5)\n",
    "myqueue.put(6)\n",
    "myqueue.put(7)\n",
    "myqueue.put(8)\n",
    "myqueue.put(9)"
   ]
  },
  {
   "cell_type": "code",
   "execution_count": 10,
   "id": "7d201168",
   "metadata": {},
   "outputs": [
    {
     "data": {
      "text/plain": [
       "deque([5, 6, 7, 8, 9])"
      ]
     },
     "execution_count": 10,
     "metadata": {},
     "output_type": "execute_result"
    }
   ],
   "source": [
    "myqueue.queue"
   ]
  },
  {
   "cell_type": "code",
   "execution_count": 11,
   "id": "ce568643",
   "metadata": {},
   "outputs": [
    {
     "data": {
      "text/plain": [
       "5"
      ]
     },
     "execution_count": 11,
     "metadata": {},
     "output_type": "execute_result"
    }
   ],
   "source": [
    "myqueue.get()"
   ]
  },
  {
   "cell_type": "code",
   "execution_count": 12,
   "id": "2f252d04",
   "metadata": {},
   "outputs": [
    {
     "data": {
      "text/plain": [
       "6"
      ]
     },
     "execution_count": 12,
     "metadata": {},
     "output_type": "execute_result"
    }
   ],
   "source": [
    "myqueue.get()"
   ]
  },
  {
   "cell_type": "code",
   "execution_count": 13,
   "id": "fcccaad9",
   "metadata": {},
   "outputs": [
    {
     "data": {
      "text/plain": [
       "deque([7, 8, 9])"
      ]
     },
     "execution_count": 13,
     "metadata": {},
     "output_type": "execute_result"
    }
   ],
   "source": [
    "myqueue.queue"
   ]
  },
  {
   "cell_type": "code",
   "execution_count": 14,
   "id": "103c0090",
   "metadata": {},
   "outputs": [],
   "source": [
    "#Deque\n",
    "from collections import deque"
   ]
  },
  {
   "cell_type": "code",
   "execution_count": 15,
   "id": "7e15f5d2",
   "metadata": {},
   "outputs": [],
   "source": [
    "mydeque = deque()"
   ]
  },
  {
   "cell_type": "code",
   "execution_count": 16,
   "id": "cfa1f5e5",
   "metadata": {},
   "outputs": [],
   "source": [
    "mydeque.append(1)\n",
    "mydeque.append(2)\n",
    "mydeque.append(3)\n",
    "mydeque.append(4)\n",
    "mydeque.append(5)\n",
    "mydeque.append(6)"
   ]
  },
  {
   "cell_type": "code",
   "execution_count": 17,
   "id": "024f53fa",
   "metadata": {},
   "outputs": [
    {
     "data": {
      "text/plain": [
       "deque([1, 2, 3, 4, 5, 6])"
      ]
     },
     "execution_count": 17,
     "metadata": {},
     "output_type": "execute_result"
    }
   ],
   "source": [
    "mydeque"
   ]
  },
  {
   "cell_type": "code",
   "execution_count": 18,
   "id": "97acce66",
   "metadata": {},
   "outputs": [],
   "source": [
    "mydeque.appendleft(0)"
   ]
  },
  {
   "cell_type": "code",
   "execution_count": 19,
   "id": "1e6feadf",
   "metadata": {},
   "outputs": [
    {
     "data": {
      "text/plain": [
       "deque([0, 1, 2, 3, 4, 5, 6])"
      ]
     },
     "execution_count": 19,
     "metadata": {},
     "output_type": "execute_result"
    }
   ],
   "source": [
    "mydeque"
   ]
  },
  {
   "cell_type": "code",
   "execution_count": 20,
   "id": "19bd6fbc",
   "metadata": {},
   "outputs": [
    {
     "data": {
      "text/plain": [
       "6"
      ]
     },
     "execution_count": 20,
     "metadata": {},
     "output_type": "execute_result"
    }
   ],
   "source": [
    "mydeque.pop()"
   ]
  },
  {
   "cell_type": "code",
   "execution_count": 21,
   "id": "2b31e913",
   "metadata": {},
   "outputs": [
    {
     "data": {
      "text/plain": [
       "0"
      ]
     },
     "execution_count": 21,
     "metadata": {},
     "output_type": "execute_result"
    }
   ],
   "source": [
    "mydeque.popleft()"
   ]
  },
  {
   "cell_type": "code",
   "execution_count": 22,
   "id": "18025da1",
   "metadata": {},
   "outputs": [
    {
     "data": {
      "text/plain": [
       "deque([1, 2, 3, 4, 5])"
      ]
     },
     "execution_count": 22,
     "metadata": {},
     "output_type": "execute_result"
    }
   ],
   "source": [
    "mydeque"
   ]
  },
  {
   "cell_type": "code",
   "execution_count": 23,
   "id": "e6145805",
   "metadata": {},
   "outputs": [],
   "source": [
    "#Write Stack"
   ]
  },
  {
   "cell_type": "code",
   "execution_count": 24,
   "id": "38fa7a70",
   "metadata": {},
   "outputs": [],
   "source": [
    "class Stack():\n",
    "    def __init__(self):\n",
    "        self.elements = []\n",
    "    \n",
    "    def push(self, element):\n",
    "        self.elements.append(element)        \n",
    "    \n",
    "    def pop(self):\n",
    "        return self.elements.pop()\n",
    "    \n",
    "    def showlast(self):\n",
    "        return self.elements[-1]\n",
    "        \n",
    "    def size(self):\n",
    "        return len(self.elements)\n",
    "    \n",
    "    def isEmpty(self):\n",
    "        return self.elements == []        "
   ]
  },
  {
   "cell_type": "code",
   "execution_count": 25,
   "id": "8c1e6fea",
   "metadata": {},
   "outputs": [],
   "source": [
    "MyStack = Stack()"
   ]
  },
  {
   "cell_type": "code",
   "execution_count": 26,
   "id": "92426ee2",
   "metadata": {},
   "outputs": [],
   "source": [
    "MyStack.push(1)\n",
    "MyStack.push(3)\n",
    "MyStack.push(2)\n",
    "MyStack.push(7)"
   ]
  },
  {
   "cell_type": "code",
   "execution_count": 27,
   "id": "e8e095c6",
   "metadata": {},
   "outputs": [
    {
     "data": {
      "text/plain": [
       "7"
      ]
     },
     "execution_count": 27,
     "metadata": {},
     "output_type": "execute_result"
    }
   ],
   "source": [
    "MyStack.pop()"
   ]
  },
  {
   "cell_type": "code",
   "execution_count": 28,
   "id": "6e289bd6",
   "metadata": {},
   "outputs": [
    {
     "data": {
      "text/plain": [
       "[1, 3, 2]"
      ]
     },
     "execution_count": 28,
     "metadata": {},
     "output_type": "execute_result"
    }
   ],
   "source": [
    "MyStack.elements"
   ]
  },
  {
   "cell_type": "code",
   "execution_count": 29,
   "id": "11d923f0",
   "metadata": {},
   "outputs": [],
   "source": [
    "# Write Queue"
   ]
  },
  {
   "cell_type": "code",
   "execution_count": 30,
   "id": "425f4ba7",
   "metadata": {},
   "outputs": [],
   "source": [
    "class Queue():\n",
    "    def __init__(self):\n",
    "        self.elements = []\n",
    "    \n",
    "    def enqueue(self, element):\n",
    "        self.elements.append(element)        \n",
    "    \n",
    "    def dequeue(self):\n",
    "        return self.elements.pop(0)\n",
    "    \n",
    "    def showlast(self):\n",
    "        return self.elements[-1]\n",
    "        \n",
    "    def size(self):\n",
    "        return len(self.elements)\n",
    "    \n",
    "    def isEmpty(self):\n",
    "        return self.elements == []   "
   ]
  },
  {
   "cell_type": "code",
   "execution_count": 31,
   "id": "fce7ec53",
   "metadata": {},
   "outputs": [],
   "source": [
    "MyQueue = Queue()"
   ]
  },
  {
   "cell_type": "code",
   "execution_count": 32,
   "id": "6a02989f",
   "metadata": {},
   "outputs": [],
   "source": [
    "MyQueue.enqueue(20)\n",
    "MyQueue.enqueue(25)\n",
    "MyQueue.enqueue(30)\n",
    "MyQueue.enqueue(40)\n",
    "MyQueue.enqueue(50)"
   ]
  },
  {
   "cell_type": "code",
   "execution_count": 33,
   "id": "c404f266",
   "metadata": {},
   "outputs": [
    {
     "data": {
      "text/plain": [
       "[20, 25, 30, 40, 50]"
      ]
     },
     "execution_count": 33,
     "metadata": {},
     "output_type": "execute_result"
    }
   ],
   "source": [
    "MyQueue.elements"
   ]
  },
  {
   "cell_type": "code",
   "execution_count": 34,
   "id": "ea3f9f60",
   "metadata": {},
   "outputs": [
    {
     "data": {
      "text/plain": [
       "20"
      ]
     },
     "execution_count": 34,
     "metadata": {},
     "output_type": "execute_result"
    }
   ],
   "source": [
    "MyQueue.dequeue()"
   ]
  },
  {
   "cell_type": "code",
   "execution_count": 35,
   "id": "05ee6967",
   "metadata": {},
   "outputs": [
    {
     "data": {
      "text/plain": [
       "[25, 30, 40, 50]"
      ]
     },
     "execution_count": 35,
     "metadata": {},
     "output_type": "execute_result"
    }
   ],
   "source": [
    "MyQueue.elements"
   ]
  },
  {
   "cell_type": "code",
   "execution_count": 36,
   "id": "d2aed865",
   "metadata": {},
   "outputs": [],
   "source": [
    "#Write Deque"
   ]
  },
  {
   "cell_type": "code",
   "execution_count": 37,
   "id": "ff4b60d2",
   "metadata": {},
   "outputs": [],
   "source": [
    "class Deque():\n",
    "    def __init__(self):\n",
    "        self.elements = []\n",
    "    \n",
    "    def add(self, element):\n",
    "        self.elements.append(element)\n",
    "    \n",
    "    def addleft(self, element):\n",
    "        self.elements.insert(0, element)\n",
    "    \n",
    "    def remove(self):\n",
    "        return self.elements.pop(0)\n",
    "    \n",
    "    def removeright(self):\n",
    "        return self.elements.pop()\n",
    "    \n",
    "    def showlast(self):\n",
    "        return self.elements[-1]\n",
    "        \n",
    "    def size(self):\n",
    "        return len(self.elements)\n",
    "    \n",
    "    def isEmpty(self):\n",
    "        return self.elements == []"
   ]
  },
  {
   "cell_type": "code",
   "execution_count": 38,
   "id": "98ffb290",
   "metadata": {},
   "outputs": [],
   "source": [
    "MyDeque = Deque()"
   ]
  },
  {
   "cell_type": "code",
   "execution_count": 39,
   "id": "fb0d1bb2",
   "metadata": {},
   "outputs": [],
   "source": [
    "MyDeque.add(31)\n",
    "MyDeque.add(32)\n",
    "MyDeque.add(33)\n",
    "MyDeque.add(34)\n",
    "MyDeque.add(35)"
   ]
  },
  {
   "cell_type": "code",
   "execution_count": 40,
   "id": "4f6f6a49",
   "metadata": {},
   "outputs": [
    {
     "data": {
      "text/plain": [
       "[31, 32, 33, 34, 35]"
      ]
     },
     "execution_count": 40,
     "metadata": {},
     "output_type": "execute_result"
    }
   ],
   "source": [
    "MyDeque.elements"
   ]
  },
  {
   "cell_type": "code",
   "execution_count": 41,
   "id": "6f2a5c22",
   "metadata": {},
   "outputs": [],
   "source": [
    "MyDeque.add(36)"
   ]
  },
  {
   "cell_type": "code",
   "execution_count": 42,
   "id": "35dec734",
   "metadata": {},
   "outputs": [
    {
     "data": {
      "text/plain": [
       "[31, 32, 33, 34, 35, 36]"
      ]
     },
     "execution_count": 42,
     "metadata": {},
     "output_type": "execute_result"
    }
   ],
   "source": [
    "MyDeque.elements"
   ]
  },
  {
   "cell_type": "code",
   "execution_count": 43,
   "id": "e510100a",
   "metadata": {},
   "outputs": [
    {
     "data": {
      "text/plain": [
       "False"
      ]
     },
     "execution_count": 43,
     "metadata": {},
     "output_type": "execute_result"
    }
   ],
   "source": [
    "MyDeque.isEmpty()"
   ]
  },
  {
   "cell_type": "code",
   "execution_count": 44,
   "id": "581e899e",
   "metadata": {},
   "outputs": [
    {
     "data": {
      "text/plain": [
       "31"
      ]
     },
     "execution_count": 44,
     "metadata": {},
     "output_type": "execute_result"
    }
   ],
   "source": [
    "MyDeque.remove()"
   ]
  },
  {
   "cell_type": "code",
   "execution_count": 45,
   "id": "4f03b138",
   "metadata": {},
   "outputs": [
    {
     "data": {
      "text/plain": [
       "[32, 33, 34, 35, 36]"
      ]
     },
     "execution_count": 45,
     "metadata": {},
     "output_type": "execute_result"
    }
   ],
   "source": [
    "MyDeque.elements"
   ]
  },
  {
   "cell_type": "code",
   "execution_count": 46,
   "id": "cae62031",
   "metadata": {},
   "outputs": [],
   "source": [
    "MyDeque.addleft(\"Acil\")"
   ]
  },
  {
   "cell_type": "code",
   "execution_count": 47,
   "id": "256ff9c0",
   "metadata": {},
   "outputs": [
    {
     "data": {
      "text/plain": [
       "['Acil', 32, 33, 34, 35, 36]"
      ]
     },
     "execution_count": 47,
     "metadata": {},
     "output_type": "execute_result"
    }
   ],
   "source": [
    "MyDeque.elements"
   ]
  },
  {
   "cell_type": "code",
   "execution_count": 48,
   "id": "6e5850f7",
   "metadata": {},
   "outputs": [
    {
     "data": {
      "text/plain": [
       "36"
      ]
     },
     "execution_count": 48,
     "metadata": {},
     "output_type": "execute_result"
    }
   ],
   "source": [
    "MyDeque.removeright()"
   ]
  },
  {
   "cell_type": "code",
   "execution_count": 49,
   "id": "c41b6606",
   "metadata": {},
   "outputs": [
    {
     "data": {
      "text/plain": [
       "['Acil', 32, 33, 34, 35]"
      ]
     },
     "execution_count": 49,
     "metadata": {},
     "output_type": "execute_result"
    }
   ],
   "source": [
    "MyDeque.elements"
   ]
  },
  {
   "cell_type": "code",
   "execution_count": 50,
   "id": "430c9b9a",
   "metadata": {},
   "outputs": [
    {
     "data": {
      "text/plain": [
       "35"
      ]
     },
     "execution_count": 50,
     "metadata": {},
     "output_type": "execute_result"
    }
   ],
   "source": [
    "MyDeque.showlast()"
   ]
  },
  {
   "cell_type": "code",
   "execution_count": 51,
   "id": "c9048d3c",
   "metadata": {},
   "outputs": [],
   "source": [
    "#1.Implement stack using Queue"
   ]
  },
  {
   "cell_type": "code",
   "execution_count": 52,
   "id": "a6cf3edd",
   "metadata": {},
   "outputs": [],
   "source": [
    "from queue import Queue\n",
    "\n",
    "class Stack():\n",
    "    \n",
    "    def __init__(self):\n",
    "        self.elements = Queue()\n",
    "    \n",
    "    def push(self, element):\n",
    "        self.elements.put(element)\n",
    "    \n",
    "    def top(self):\n",
    "        return self.elements.queue[-1]\n",
    "    \n",
    "    def pop(self):\n",
    "        for _ in range(0, len(self.elements.queue)-1):\n",
    "            self.push(self.elements.get())\n",
    "        return self.elements.get()\n",
    "    def empty(self):\n",
    "        return self.elements.empty()\n",
    "    "
   ]
  },
  {
   "cell_type": "code",
   "execution_count": 53,
   "id": "8718e1ea",
   "metadata": {},
   "outputs": [],
   "source": [
    "MyStack = Stack()"
   ]
  },
  {
   "cell_type": "code",
   "execution_count": 54,
   "id": "b23377a4",
   "metadata": {},
   "outputs": [],
   "source": [
    "MyStack.push(100)\n",
    "MyStack.push(200)\n",
    "MyStack.push(300)\n",
    "MyStack.push(400)\n",
    "MyStack.push(500)\n",
    "MyStack.push(600)"
   ]
  },
  {
   "cell_type": "code",
   "execution_count": 55,
   "id": "fddfa0cf",
   "metadata": {},
   "outputs": [
    {
     "data": {
      "text/plain": [
       "deque([100, 200, 300, 400, 500, 600])"
      ]
     },
     "execution_count": 55,
     "metadata": {},
     "output_type": "execute_result"
    }
   ],
   "source": [
    "MyStack.elements.queue"
   ]
  },
  {
   "cell_type": "code",
   "execution_count": 56,
   "id": "21e1ad0f",
   "metadata": {},
   "outputs": [
    {
     "data": {
      "text/plain": [
       "600"
      ]
     },
     "execution_count": 56,
     "metadata": {},
     "output_type": "execute_result"
    }
   ],
   "source": [
    "MyStack.top()"
   ]
  },
  {
   "cell_type": "code",
   "execution_count": 57,
   "id": "94b06c62",
   "metadata": {},
   "outputs": [
    {
     "data": {
      "text/plain": [
       "600"
      ]
     },
     "execution_count": 57,
     "metadata": {},
     "output_type": "execute_result"
    }
   ],
   "source": [
    "MyStack.pop()"
   ]
  },
  {
   "cell_type": "code",
   "execution_count": 58,
   "id": "1e6fb067",
   "metadata": {},
   "outputs": [
    {
     "data": {
      "text/plain": [
       "500"
      ]
     },
     "execution_count": 58,
     "metadata": {},
     "output_type": "execute_result"
    }
   ],
   "source": [
    "MyStack.pop()"
   ]
  },
  {
   "cell_type": "code",
   "execution_count": 59,
   "id": "4233d251",
   "metadata": {},
   "outputs": [
    {
     "data": {
      "text/plain": [
       "False"
      ]
     },
     "execution_count": 59,
     "metadata": {},
     "output_type": "execute_result"
    }
   ],
   "source": [
    "MyStack.empty()"
   ]
  },
  {
   "cell_type": "code",
   "execution_count": 60,
   "id": "95d5e055",
   "metadata": {},
   "outputs": [],
   "source": [
    "MyStack.push(31)"
   ]
  },
  {
   "cell_type": "code",
   "execution_count": 61,
   "id": "fb39d40c",
   "metadata": {},
   "outputs": [
    {
     "data": {
      "text/plain": [
       "deque([100, 200, 300, 400, 31])"
      ]
     },
     "execution_count": 61,
     "metadata": {},
     "output_type": "execute_result"
    }
   ],
   "source": [
    "MyStack.elements.queue"
   ]
  },
  {
   "cell_type": "code",
   "execution_count": 62,
   "id": "ed57c963",
   "metadata": {},
   "outputs": [],
   "source": [
    "#2.Baseball Game\n",
    "ops = [\"5\",\"2\",\"C\",\"D\",\"+\"]"
   ]
  },
  {
   "cell_type": "code",
   "execution_count": 63,
   "id": "90736990",
   "metadata": {},
   "outputs": [],
   "source": [
    "class Solution:\n",
    "    def calPoints(self, operations):\n",
    "        myStack = []\n",
    "        for item in operations:\n",
    "            if item == \"C\":\n",
    "                myStack.pop()\n",
    "            elif item == \"D\":\n",
    "                myStack.append(myStack[-1] * 2)\n",
    "            elif item == \"+\":\n",
    "                myStack.append(myStack[-1] + myStack[-2])\n",
    "            else:\n",
    "                myStack.append(int(item))\n",
    "        return sum(myStack)"
   ]
  },
  {
   "cell_type": "code",
   "execution_count": 64,
   "id": "9ac7290c",
   "metadata": {},
   "outputs": [
    {
     "name": "stdout",
     "output_type": "stream",
     "text": [
      "30\n"
     ]
    }
   ],
   "source": [
    "mySolution = Solution().calPoints(ops)\n",
    "print(mySolution)"
   ]
  },
  {
   "cell_type": "code",
   "execution_count": 65,
   "id": "451a2c6d",
   "metadata": {},
   "outputs": [],
   "source": [
    "#3.Daily Temperature\n",
    "#Input: temperatures = [73,74,75,71,69,72,76,73]\n",
    "#Output: [1,1,4,2,1,1,0,0]"
   ]
  },
  {
   "cell_type": "code",
   "execution_count": 66,
   "id": "74dda083",
   "metadata": {},
   "outputs": [],
   "source": [
    "#Time-Complexity->O(n2) | Space-Complexity->O(n)\n",
    "def daily_temperatures(temp_list):\n",
    "    output_list = []\n",
    "    for i in range(len(temp_list)):\n",
    "        add_zero = True\n",
    "        for j in range(i+1, len(temp_list)):\n",
    "            if temp_list[j] > temp_list[i]:\n",
    "                output_list.append(j-i)\n",
    "                add_zero = False\n",
    "                break\n",
    "        if add_zero:\n",
    "            output_list.append(0)\n",
    "    return output_list"
   ]
  },
  {
   "cell_type": "code",
   "execution_count": 67,
   "id": "be26123c",
   "metadata": {},
   "outputs": [
    {
     "data": {
      "text/plain": [
       "[1, 1, 4, 2, 1, 1, 0, 0]"
      ]
     },
     "execution_count": 67,
     "metadata": {},
     "output_type": "execute_result"
    }
   ],
   "source": [
    "temperatures = [73,74,75,71,69,72,76,73]\n",
    "daily_temperatures(temperatures)"
   ]
  },
  {
   "cell_type": "code",
   "execution_count": 68,
   "id": "58a192da",
   "metadata": {},
   "outputs": [],
   "source": [
    "#Time-Complexity->O(n) | Space-Complexity->O(n)\n",
    "temperatures = [73,74,75,71,69,72,76,73]\n",
    "def daily_temperatures2(temp_list):\n",
    "    output_list = [0] * len(temp_list)\n",
    "    myStack = []\n",
    "    for index, temperature in enumerate(temp_list):\n",
    "        while myStack and temperature > myStack[-1][0]:\n",
    "            stackTemp, stackIndex = myStack.pop()\n",
    "            output_list[stackIndex] = index - stackIndex\n",
    "        myStack.append([temperature, index])\n",
    "    return output_list"
   ]
  },
  {
   "cell_type": "code",
   "execution_count": 69,
   "id": "0212e2f9",
   "metadata": {},
   "outputs": [
    {
     "data": {
      "text/plain": [
       "[1, 1, 4, 2, 1, 1, 0, 0]"
      ]
     },
     "execution_count": 69,
     "metadata": {},
     "output_type": "execute_result"
    }
   ],
   "source": [
    "daily_temperatures2(temperatures)"
   ]
  }
 ],
 "metadata": {
  "kernelspec": {
   "display_name": "Python 3 (ipykernel)",
   "language": "python",
   "name": "python3"
  },
  "language_info": {
   "codemirror_mode": {
    "name": "ipython",
    "version": 3
   },
   "file_extension": ".py",
   "mimetype": "text/x-python",
   "name": "python",
   "nbconvert_exporter": "python",
   "pygments_lexer": "ipython3",
   "version": "3.10.9"
  }
 },
 "nbformat": 4,
 "nbformat_minor": 5
}
