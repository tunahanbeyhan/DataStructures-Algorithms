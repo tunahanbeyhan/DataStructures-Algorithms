{
 "cells": [
  {
   "cell_type": "code",
   "execution_count": null,
   "id": "03c0685f",
   "metadata": {},
   "outputs": [],
   "source": [
    "#Data Structures are essential for organizing and managing the data efficiently.\n",
    "#They provide a way to store and manipulate the data in a way to optimize performance and perform various operations."
   ]
  },
  {
   "cell_type": "code",
   "execution_count": null,
   "id": "cc697860",
   "metadata": {},
   "outputs": [],
   "source": [
    "#Big-O-Notation is a mathematical notation which is used in computer science and analysis of an algorithm to describe the complexity or efficiency of an algorithm.\n",
    "#It provides a way to express the worst case scenario of how the run-time and space requirements of algorithm grows as input size increases.\n",
    "#The \"O\" in Big-O represent the order of the function that describes the growth rate of the algorithm.\n",
    "#So we both use Big-O-Notation for Space Complexity(Memory Usage) or Time Complexity(Run-Time).\n",
    "#We have several notations such as : O(1)-> O(logn)-> O(n)-> O(nlogn)-> O(n2)-> O(2^n)-> O(n!)\n",
    "#Moreover, we use Θ(Theta) for average scenario and Ω(Ohm) for best scenario.\n",
    "#One may have a look to -> Bigocheatsheet.com"
   ]
  },
  {
   "cell_type": "code",
   "execution_count": null,
   "id": "e1f6b5a1",
   "metadata": {},
   "outputs": [],
   "source": [
    "#O(n)\n",
    "def bigon(n):\n",
    "    for i in range(n):\n",
    "        print(i)\n",
    "\n",
    "bigon(5)"
   ]
  },
  {
   "cell_type": "code",
   "execution_count": null,
   "id": "20804e2e",
   "metadata": {},
   "outputs": [],
   "source": [
    "#O(n2)\n",
    "def bigon2(n):\n",
    "    for i in range(n):\n",
    "        for k in range(n):\n",
    "            print (i, k)\n",
    "            \n",
    "bigon2(5)"
   ]
  },
  {
   "cell_type": "code",
   "execution_count": null,
   "id": "ac667e5b",
   "metadata": {},
   "outputs": [],
   "source": [
    "#O(logn)\n",
    "# 50 25 12 6 3 1 \n",
    "from math import floor\n",
    "def logn(n):\n",
    "    while n > 1:\n",
    "        n = floor(n/2)\n",
    "        print(n)\n",
    "logn(100)"
   ]
  },
  {
   "cell_type": "code",
   "execution_count": null,
   "id": "eee261cf",
   "metadata": {},
   "outputs": [],
   "source": [
    "#O(nlogn)\n",
    "def nlogn(n):\n",
    "    lim = n\n",
    "    while n > 1:\n",
    "        n = floor(n/2)\n",
    "        for i in range(lim):\n",
    "            print(n, i)\n",
    "            \n",
    "nlogn(16)"
   ]
  },
  {
   "cell_type": "code",
   "execution_count": null,
   "id": "8c20aa2d",
   "metadata": {},
   "outputs": [],
   "source": [
    "counter = 0\n",
    "def factorial(n):\n",
    "    global counter\n",
    "    counter += 1\n",
    "    if n == 0 or n == 1:\n",
    "        print(counter)\n",
    "        return 1\n",
    "    else:\n",
    "        return (n * factorial(n-1))\n",
    "\n",
    "factorial(6)"
   ]
  }
 ],
 "metadata": {
  "kernelspec": {
   "display_name": "Python 3 (ipykernel)",
   "language": "python",
   "name": "python3"
  },
  "language_info": {
   "codemirror_mode": {
    "name": "ipython",
    "version": 3
   },
   "file_extension": ".py",
   "mimetype": "text/x-python",
   "name": "python",
   "nbconvert_exporter": "python",
   "pygments_lexer": "ipython3",
   "version": "3.10.9"
  }
 },
 "nbformat": 4,
 "nbformat_minor": 5
}
