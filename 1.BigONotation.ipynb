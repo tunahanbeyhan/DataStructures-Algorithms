{
 "cells": [
  {
   "cell_type": "code",
   "execution_count": 1,
   "id": "03c0685f",
   "metadata": {},
   "outputs": [],
   "source": [
    "#Data Structures are essential for organizing and managing the data efficiently.\n",
    "#They provide a way to store and manipulate the data in a way to optimize performance and perform various operations."
   ]
  },
  {
   "cell_type": "code",
   "execution_count": 2,
   "id": "cc697860",
   "metadata": {},
   "outputs": [],
   "source": [
    "#Big-O-Notation is a mathematical notation which is used in computer science and analysis of an algorithm to describe the complexity or efficiency of an algorithm.\n",
    "#It provides a way to express the worst case scenario of how the run-time and space requirements of algorithm grows as input size increases.\n",
    "#The \"O\" in Big-O represent the order of the function that describes the growth rate of the algorithm.\n",
    "#So we both use Big-O-Notation for Space Complexity(Memory Usage) or Time Complexity(Run-Time).\n",
    "#We have several notations such as : O(1)-> O(logn)-> O(n)-> O(nlogn)-> O(n2)-> O(2^n)-> O(n!)\n",
    "#Moreover, we use Θ(Theta) for average scenario and Ω(Ohm) for best scenario.\n",
    "#One may have a look to -> Bigocheatsheet.com"
   ]
  },
  {
   "cell_type": "code",
   "execution_count": 3,
   "id": "e1f6b5a1",
   "metadata": {},
   "outputs": [
    {
     "name": "stdout",
     "output_type": "stream",
     "text": [
      "0\n",
      "1\n",
      "2\n",
      "3\n",
      "4\n"
     ]
    }
   ],
   "source": [
    "#O(n)\n",
    "def bigon(n):\n",
    "    for i in range(n):\n",
    "        print(i)\n",
    "\n",
    "bigon(5)"
   ]
  },
  {
   "cell_type": "code",
   "execution_count": 4,
   "id": "20804e2e",
   "metadata": {},
   "outputs": [
    {
     "name": "stdout",
     "output_type": "stream",
     "text": [
      "0 0\n",
      "0 1\n",
      "0 2\n",
      "0 3\n",
      "0 4\n",
      "1 0\n",
      "1 1\n",
      "1 2\n",
      "1 3\n",
      "1 4\n",
      "2 0\n",
      "2 1\n",
      "2 2\n",
      "2 3\n",
      "2 4\n",
      "3 0\n",
      "3 1\n",
      "3 2\n",
      "3 3\n",
      "3 4\n",
      "4 0\n",
      "4 1\n",
      "4 2\n",
      "4 3\n",
      "4 4\n"
     ]
    }
   ],
   "source": [
    "#O(n2)\n",
    "def bigon2(n):\n",
    "    for i in range(n):\n",
    "        for k in range(n):\n",
    "            print (i, k)\n",
    "            \n",
    "bigon2(5)"
   ]
  },
  {
   "cell_type": "code",
   "execution_count": 5,
   "id": "ac667e5b",
   "metadata": {},
   "outputs": [
    {
     "name": "stdout",
     "output_type": "stream",
     "text": [
      "50\n",
      "25\n",
      "12\n",
      "6\n",
      "3\n",
      "1\n"
     ]
    }
   ],
   "source": [
    "#O(logn)\n",
    "# 50 25 12 6 3 1 \n",
    "from math import floor\n",
    "def logn(n):\n",
    "    while n > 1:\n",
    "        n = floor(n/2)\n",
    "        print(n)\n",
    "logn(100)"
   ]
  },
  {
   "cell_type": "code",
   "execution_count": 6,
   "id": "eee261cf",
   "metadata": {},
   "outputs": [
    {
     "name": "stdout",
     "output_type": "stream",
     "text": [
      "8 0\n",
      "8 1\n",
      "8 2\n",
      "8 3\n",
      "8 4\n",
      "8 5\n",
      "8 6\n",
      "8 7\n",
      "8 8\n",
      "8 9\n",
      "8 10\n",
      "8 11\n",
      "8 12\n",
      "8 13\n",
      "8 14\n",
      "8 15\n",
      "4 0\n",
      "4 1\n",
      "4 2\n",
      "4 3\n",
      "4 4\n",
      "4 5\n",
      "4 6\n",
      "4 7\n",
      "4 8\n",
      "4 9\n",
      "4 10\n",
      "4 11\n",
      "4 12\n",
      "4 13\n",
      "4 14\n",
      "4 15\n",
      "2 0\n",
      "2 1\n",
      "2 2\n",
      "2 3\n",
      "2 4\n",
      "2 5\n",
      "2 6\n",
      "2 7\n",
      "2 8\n",
      "2 9\n",
      "2 10\n",
      "2 11\n",
      "2 12\n",
      "2 13\n",
      "2 14\n",
      "2 15\n",
      "1 0\n",
      "1 1\n",
      "1 2\n",
      "1 3\n",
      "1 4\n",
      "1 5\n",
      "1 6\n",
      "1 7\n",
      "1 8\n",
      "1 9\n",
      "1 10\n",
      "1 11\n",
      "1 12\n",
      "1 13\n",
      "1 14\n",
      "1 15\n"
     ]
    }
   ],
   "source": [
    "#O(nlogn)\n",
    "def nlogn(n):\n",
    "    lim = n\n",
    "    while n > 1:\n",
    "        n = floor(n/2)\n",
    "        for i in range(lim):\n",
    "            print(n, i)\n",
    "            \n",
    "nlogn(16)"
   ]
  },
  {
   "cell_type": "code",
   "execution_count": 7,
   "id": "8c20aa2d",
   "metadata": {},
   "outputs": [
    {
     "name": "stdout",
     "output_type": "stream",
     "text": [
      "6\n"
     ]
    },
    {
     "data": {
      "text/plain": [
       "720"
      ]
     },
     "execution_count": 7,
     "metadata": {},
     "output_type": "execute_result"
    }
   ],
   "source": [
    "counter = 0\n",
    "def factorial(n):\n",
    "    global counter\n",
    "    counter += 1\n",
    "    if n == 0 or n == 1:\n",
    "        print(counter)\n",
    "        return 1\n",
    "    else:\n",
    "        return (n * factorial(n-1))\n",
    "\n",
    "factorial(6)"
   ]
  }
 ],
 "metadata": {
  "kernelspec": {
   "display_name": "Python 3 (ipykernel)",
   "language": "python",
   "name": "python3"
  },
  "language_info": {
   "codemirror_mode": {
    "name": "ipython",
    "version": 3
   },
   "file_extension": ".py",
   "mimetype": "text/x-python",
   "name": "python",
   "nbconvert_exporter": "python",
   "pygments_lexer": "ipython3",
   "version": "3.10.9"
  }
 },
 "nbformat": 4,
 "nbformat_minor": 5
}
