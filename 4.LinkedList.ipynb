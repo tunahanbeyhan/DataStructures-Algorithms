{
 "cells": [
  {
   "cell_type": "code",
   "execution_count": 1,
   "id": "87f1ea73",
   "metadata": {},
   "outputs": [],
   "source": [
    "#LinkedList: A linked list is a linear, collection type data structure consisting of a sequence of elemenets called nodes, where each node contains a value and a reference(pointer) to the next node in the list.\n",
    "#Linkedlist differs from arrays in that they don't require contigous memory allocation.\n",
    "#There are several types of linked lists such as singly, doubly and circular.\n",
    "#Last node is typically called head and last node is typically called tail. (For Singly-Linked List)\n",
    "#Last node is typically called header and last node is typically called trailer. (For Doubly-Linked List)\n",
    "\n",
    "#Size: Linked-list can grow or shrink dynamically in term of size, this flexibility is crucial when size of collection may change frequently.\n",
    "#Efficient Insertion and Deletion: Insertion and deletion of an element can be efficient especially for first and last elements. It requires only updating the previous/next reference of nodes.\n",
    "#Random Access Inefficiency: Unlike arrays, linked-list does not support access to element by index. To access an element you should traverse from head or tail.\n",
    "#Additional Memory Overhead: Since references are also stored, they require additional memory compared to arrays.\n",
    "\n",
    "#Let's think linked-lists as singly-linked lists for now:\n",
    "#Appending-> O(1) since you only change the reference of tail.\n",
    "#Pop-> O(n) since you need to change reference in previous node of tail.\n",
    "#Preprend-> O(1) since you will just change reference's of new node.\n",
    "#Pop-first-> O(1) since you will just change pointer of to be removed node."
   ]
  },
  {
   "cell_type": "code",
   "execution_count": 2,
   "id": "67cadbf4",
   "metadata": {},
   "outputs": [],
   "source": [
    "#Singly Linked List\n",
    "class SinglyNode():\n",
    "    \n",
    "    def __init__(self, value):\n",
    "        self.value = value\n",
    "        self.nextnode = None"
   ]
  },
  {
   "cell_type": "code",
   "execution_count": 3,
   "id": "bdc37efd",
   "metadata": {},
   "outputs": [],
   "source": [
    "headNode = SinglyNode(10)\n",
    "secondNode = SinglyNode(20)\n",
    "thirdNode = SinglyNode(30)\n",
    "fourthNode = SinglyNode(40)\n",
    "tailNode = SinglyNode(50)\n",
    "\n",
    "headNode.nextnode = secondNode\n",
    "secondNode.nextnode = thirdNode\n",
    "thirdNode.nextnode = fourthNode\n",
    "fourthNode.nextnode = tailNode"
   ]
  },
  {
   "cell_type": "code",
   "execution_count": 4,
   "id": "c4dfbb1b",
   "metadata": {},
   "outputs": [
    {
     "data": {
      "text/plain": [
       "30"
      ]
     },
     "execution_count": 4,
     "metadata": {},
     "output_type": "execute_result"
    }
   ],
   "source": [
    "headNode.nextnode.nextnode.value"
   ]
  },
  {
   "cell_type": "code",
   "execution_count": 5,
   "id": "323e11f0",
   "metadata": {},
   "outputs": [],
   "source": [
    "#Dobly Linked List\n",
    "class DoublyNode():\n",
    "    \n",
    "    def __init__(self, value):\n",
    "        self.value = value\n",
    "        self.prevnode = None\n",
    "        self.nextnode = None"
   ]
  },
  {
   "cell_type": "code",
   "execution_count": 6,
   "id": "6b688df3",
   "metadata": {},
   "outputs": [],
   "source": [
    "headerNode = DoublyNode(10)\n",
    "secondNode = DoublyNode(20)\n",
    "thirdNode = DoublyNode(30)\n",
    "fourthNode = DoublyNode(40)\n",
    "trailerNode = DoublyNode(50)"
   ]
  },
  {
   "cell_type": "code",
   "execution_count": 7,
   "id": "7ed2d45d",
   "metadata": {},
   "outputs": [],
   "source": [
    "headerNode.nextnode = secondNode\n",
    "secondNode.prevnode = headerNode\n",
    "secondNode.nextnode = thirdNode\n",
    "thirdNode.prevnode = secondNode\n",
    "thirdNode.nextnode = fourthNode\n",
    "fourthNode.prevnode = thirdNode\n",
    "fourthNode.nextnode = trailerNode\n",
    "trailerNode.prevnode = fourthNode"
   ]
  },
  {
   "cell_type": "code",
   "execution_count": 8,
   "id": "9e90733b",
   "metadata": {},
   "outputs": [
    {
     "data": {
      "text/plain": [
       "10"
      ]
     },
     "execution_count": 8,
     "metadata": {},
     "output_type": "execute_result"
    }
   ],
   "source": [
    "headerNode.value"
   ]
  },
  {
   "cell_type": "code",
   "execution_count": 9,
   "id": "2e048565",
   "metadata": {},
   "outputs": [
    {
     "name": "stdout",
     "output_type": "stream",
     "text": [
      "None\n"
     ]
    }
   ],
   "source": [
    "print(headerNode.prevnode)"
   ]
  },
  {
   "cell_type": "code",
   "execution_count": 10,
   "id": "dcb998c4",
   "metadata": {},
   "outputs": [
    {
     "data": {
      "text/plain": [
       "50"
      ]
     },
     "execution_count": 10,
     "metadata": {},
     "output_type": "execute_result"
    }
   ],
   "source": [
    "headerNode.nextnode.nextnode.nextnode.nextnode.value"
   ]
  },
  {
   "cell_type": "code",
   "execution_count": 11,
   "id": "5adbbe18",
   "metadata": {},
   "outputs": [
    {
     "data": {
      "text/plain": [
       "40"
      ]
     },
     "execution_count": 11,
     "metadata": {},
     "output_type": "execute_result"
    }
   ],
   "source": [
    "trailerNode.prevnode.value"
   ]
  },
  {
   "cell_type": "code",
   "execution_count": 12,
   "id": "a8b37337",
   "metadata": {},
   "outputs": [],
   "source": [
    "                       #Linked List BigO Notation\n",
    "#                LinkedList(singly)     |       List\n",
    "# Append               O(1)             |       O(1)\n",
    "# Pop                  O(n)             |       O(1)\n",
    "# Prepend              O(1)             |       O(n)\n",
    "# Pop-first            O(1)             |       O(n)\n",
    "# Access(Index)        O(n)             |       O(1)\n",
    "# Access(Value)        O(n)             |       O(n)\n",
    "# Remove               O(n)             |       O(n)\n",
    "# Insert               O(n)             |       O(n)"
   ]
  },
  {
   "cell_type": "code",
   "execution_count": 18,
   "id": "ec01bd1a",
   "metadata": {},
   "outputs": [],
   "source": [
    "class ListNode():\n",
    "    \n",
    "    def __init__(self, value):\n",
    "        self.val = value\n",
    "        self.next = None\n",
    "        \n",
    "head = ListNode(1)\n",
    "head.next = ListNode(2)\n",
    "head.next.next = ListNode(3)\n",
    "head.next.next.next = ListNode(4)\n",
    "head.next.next.next.next = ListNode(5)"
   ]
  },
  {
   "cell_type": "code",
   "execution_count": 14,
   "id": "ee4f1452",
   "metadata": {},
   "outputs": [],
   "source": [
    "#0.Remove Nth Node From Start\n",
    "#Time-Complexity-> O(n) Space-Complexity->O(1)\n",
    "def removeNthFromStart(head, n):\n",
    "    pointer = head\n",
    "    \n",
    "    if n == 1:\n",
    "        head = pointer.next\n",
    "        return head\n",
    "    \n",
    "    else:\n",
    "        \n",
    "        for _ in range(n-2):\n",
    "            pointer = pointer.next\n",
    "            \n",
    "    pointer.next = pointer.next.next\n",
    "    \n",
    "    return head"
   ]
  },
  {
   "cell_type": "code",
   "execution_count": 15,
   "id": "44c2190b",
   "metadata": {},
   "outputs": [
    {
     "data": {
      "text/plain": [
       "<__main__.ListNode at 0x20c41e93070>"
      ]
     },
     "execution_count": 15,
     "metadata": {},
     "output_type": "execute_result"
    }
   ],
   "source": [
    "removeNthFromStart(head, 2)"
   ]
  },
  {
   "cell_type": "code",
   "execution_count": 17,
   "id": "0c80b3d8",
   "metadata": {},
   "outputs": [
    {
     "name": "stdout",
     "output_type": "stream",
     "text": [
      "1  ->  3  ->  4  ->  5  ->  None\n"
     ]
    }
   ],
   "source": [
    "n = 2\n",
    "new_head = removeNthFromStart(head, n)\n",
    "current = new_head\n",
    "while current:\n",
    "    print(current.val, end=\"  ->  \")\n",
    "    current = current.next\n",
    "print(\"None\")"
   ]
  },
  {
   "cell_type": "code",
   "execution_count": 19,
   "id": "3c841144",
   "metadata": {},
   "outputs": [],
   "source": [
    "#1.Remove Nth Node From End | Sliding Window\n",
    "#Time-Complexity-> O(n) Space-Complexity->O(1)\n",
    "def removeNthFromEnd(head, n):\n",
    "    dummy = ListNode(0)\n",
    "    dummy.next = head\n",
    "    fast = slow = dummy\n",
    "\n",
    "    for _ in range(n):\n",
    "        fast = fast.next\n",
    "\n",
    "    while fast.next is not None:\n",
    "        fast = fast.next\n",
    "        slow = slow.next\n",
    "\n",
    "    slow.next = slow.next.next\n",
    "    return dummy.next"
   ]
  },
  {
   "cell_type": "code",
   "execution_count": 20,
   "id": "29c7d402",
   "metadata": {},
   "outputs": [
    {
     "name": "stdout",
     "output_type": "stream",
     "text": [
      "1  ->  2  ->  3  ->  5  ->  None\n"
     ]
    }
   ],
   "source": [
    "n = 2\n",
    "new_head = removeNthFromEnd(head, n)\n",
    "current = new_head\n",
    "while current:\n",
    "    print(current.val, end=\"  ->  \")\n",
    "    current = current.next\n",
    "print(\"None\")"
   ]
  },
  {
   "cell_type": "code",
   "execution_count": 21,
   "id": "3ecb11fc",
   "metadata": {},
   "outputs": [],
   "source": [
    "#2.Intersection\n",
    "class ListNode():\n",
    "    \n",
    "    def __init__(self, value):\n",
    "        self.val = value\n",
    "        self.next = None\n",
    "        \n",
    "headA = ListNode(\"a1\")\n",
    "headA.next = ListNode(\"a2\")\n",
    "\n",
    "headB = ListNode(\"b1\")\n",
    "headB.next = ListNode(\"b2\")\n",
    "headB.next.next = ListNode(\"b3\")\n",
    "\n",
    "headA.next.next = headB.next.next.next = ListNode(\"c1\")\n",
    "headA.next.next.next = headB.next.next.next.next = ListNode(\"c2\")\n",
    "headA.next.next.next.next = headB.next.next.next.next.next = ListNode(\"c3\")"
   ]
  },
  {
   "cell_type": "code",
   "execution_count": 22,
   "id": "f19bea89",
   "metadata": {},
   "outputs": [
    {
     "data": {
      "text/plain": [
       "'c1'"
      ]
     },
     "execution_count": 22,
     "metadata": {},
     "output_type": "execute_result"
    }
   ],
   "source": [
    "headA.next.next.val"
   ]
  },
  {
   "cell_type": "code",
   "execution_count": 23,
   "id": "1048bfbd",
   "metadata": {},
   "outputs": [],
   "source": [
    "#Time-Complexity->O(n) | Space-Complexity->O(1)\n",
    "def findIntersection(headA, headB):\n",
    "    firstPointer = headA\n",
    "    secondPointer = headB\n",
    "    while firstPointer != secondPointer:\n",
    "        firstPointer = firstPointer.next if firstPointer is not None else headB\n",
    "        secondPointer = secondPointer.next if secondPointer is not None else headA\n",
    "    return firstPointer"
   ]
  },
  {
   "cell_type": "code",
   "execution_count": 24,
   "id": "270bd017",
   "metadata": {},
   "outputs": [],
   "source": [
    "intersection = findIntersection(headA, headB)"
   ]
  },
  {
   "cell_type": "code",
   "execution_count": 25,
   "id": "3c945eb4",
   "metadata": {},
   "outputs": [
    {
     "data": {
      "text/plain": [
       "'c2'"
      ]
     },
     "execution_count": 25,
     "metadata": {},
     "output_type": "execute_result"
    }
   ],
   "source": [
    "intersection.next.val"
   ]
  },
  {
   "cell_type": "code",
   "execution_count": 26,
   "id": "cbb90e92",
   "metadata": {},
   "outputs": [],
   "source": [
    "#3.Find Duplicate Number \n",
    "#Time-Complexity -> O(n2) | Space-Complexity -> O(1)\n",
    "nums = [1,3,4,2,2]\n",
    "def solution(nums):\n",
    "    for i in range(len(nums)):\n",
    "        for j in range(len(nums)):\n",
    "            if i != j and nums[i] == nums[j]:\n",
    "                return nums[i]\n",
    "    return None"
   ]
  },
  {
   "cell_type": "code",
   "execution_count": 27,
   "id": "92cf0c68",
   "metadata": {},
   "outputs": [
    {
     "data": {
      "text/plain": [
       "2"
      ]
     },
     "execution_count": 27,
     "metadata": {},
     "output_type": "execute_result"
    }
   ],
   "source": [
    "solution(nums)"
   ]
  },
  {
   "cell_type": "code",
   "execution_count": 28,
   "id": "d5f40784",
   "metadata": {},
   "outputs": [
    {
     "data": {
      "text/plain": [
       "2"
      ]
     },
     "execution_count": 28,
     "metadata": {},
     "output_type": "execute_result"
    }
   ],
   "source": [
    "#Time-Complexity -> O(n) | Space-Complexity -> O(n)\n",
    "nums = [1,3,4,2,2]\n",
    "def solution2(nums):\n",
    "    num_dict = {}\n",
    "    for element in nums:\n",
    "        if element in num_dict:\n",
    "            num_dict[element] += 1\n",
    "        else:\n",
    "            num_dict[element] = 1\n",
    "    for element in num_dict:\n",
    "        if num_dict[element] != 1:\n",
    "            return element\n",
    "    return None\n",
    "solution2(nums)"
   ]
  },
  {
   "cell_type": "code",
   "execution_count": 29,
   "id": "a4bb9298",
   "metadata": {},
   "outputs": [],
   "source": [
    "#Time-Complexity -> O(n) | Space-Complexity -> O(1)\n",
    "nums = [1,3,4,2,2]\n",
    "def floydSolution(nums):\n",
    "    slowPointer = 0\n",
    "    fastPointer = 0\n",
    "    while True:\n",
    "        slowPointer = nums[slowPointer]\n",
    "        fastPointer = nums[nums[fastPointer]]\n",
    "        if slowPointer == fastPointer:\n",
    "            break\n",
    "    secondslowPointer = 0\n",
    "    while True:\n",
    "        slowPointer = nums[slowPointer]\n",
    "        secondslowPointer = nums[secondslowPointer]\n",
    "        if secondslowPointer == slowPointer:\n",
    "            break\n",
    "    return slowPointer"
   ]
  },
  {
   "cell_type": "code",
   "execution_count": 30,
   "id": "fb2cb34c",
   "metadata": {},
   "outputs": [
    {
     "data": {
      "text/plain": [
       "2"
      ]
     },
     "execution_count": 30,
     "metadata": {},
     "output_type": "execute_result"
    }
   ],
   "source": [
    "floydSolution(nums)"
   ]
  }
 ],
 "metadata": {
  "kernelspec": {
   "display_name": "Python 3 (ipykernel)",
   "language": "python",
   "name": "python3"
  },
  "language_info": {
   "codemirror_mode": {
    "name": "ipython",
    "version": 3
   },
   "file_extension": ".py",
   "mimetype": "text/x-python",
   "name": "python",
   "nbconvert_exporter": "python",
   "pygments_lexer": "ipython3",
   "version": "3.10.9"
  }
 },
 "nbformat": 4,
 "nbformat_minor": 5
}
