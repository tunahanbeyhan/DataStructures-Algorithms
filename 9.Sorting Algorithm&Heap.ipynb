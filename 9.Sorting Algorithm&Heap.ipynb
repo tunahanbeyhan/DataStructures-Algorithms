{
 "cells": [
  {
   "cell_type": "code",
   "execution_count": 1,
   "id": "43644715",
   "metadata": {},
   "outputs": [],
   "source": [
    "#Sorting Algorithms are algos to arrange elements in specific order, typically ascending or descending order.\n",
    "#They are fundamental in computer science and used in various operations.\n",
    "#Each with its own characteristics, advantages, and disadvantages. \n",
    "#They depend on factors such as the size of the dataset, the desired time and space complexity, stability requirements.\n",
    "#Check this link for better understanding -> https://visualgo.net/en"
   ]
  },
  {
   "cell_type": "code",
   "execution_count": 2,
   "id": "ddccfc71",
   "metadata": {},
   "outputs": [],
   "source": [
    "#Bubble Sort: A simple algorithm that repeatedly compares adjacent elements and swaps them if they are in the wrong order. \n",
    "#It has a time complexity of O(n^2)."
   ]
  },
  {
   "cell_type": "code",
   "execution_count": 3,
   "id": "13cd21b7",
   "metadata": {},
   "outputs": [
    {
     "data": {
      "text/plain": [
       "[3, 5, 8, 9, 12, 15, 16, 23, 31, 31, 34, 54]"
      ]
     },
     "execution_count": 3,
     "metadata": {},
     "output_type": "execute_result"
    }
   ],
   "source": [
    "#Bubble Sort Code:\n",
    "myList1 = [31,3,34,23,12,54,8,31,9,5,15,16]\n",
    "myList2 = [1,3,5,7,0]\n",
    "def bubblesort(arr):\n",
    "    \n",
    "    n = len(arr)\n",
    "    \n",
    "    for i in range(n-1):\n",
    "        for j in range(n-i-1):\n",
    "            if arr[j] > arr[j+1]:\n",
    "                arr[j], arr[j+1] = arr[j+1], arr[j]\n",
    "    return arr\n",
    "    \n",
    "bubblesort(myList1)"
   ]
  },
  {
   "cell_type": "code",
   "execution_count": 4,
   "id": "4db915f3",
   "metadata": {},
   "outputs": [],
   "source": [
    "#Selection Sort: This algorithm divides the input into two parts: a sorted portion and an unsorted portion. \n",
    "#It repeatedly selects the smallest (or largest) element from the unsorted portion and places it at the end of the sorted portion.\n",
    "#It also has a time complexity of O(n^2)."
   ]
  },
  {
   "cell_type": "code",
   "execution_count": 5,
   "id": "6680ceab",
   "metadata": {},
   "outputs": [
    {
     "data": {
      "text/plain": [
       "[3, 5, 8, 9, 12, 15, 16, 23, 31, 31, 34, 54]"
      ]
     },
     "execution_count": 5,
     "metadata": {},
     "output_type": "execute_result"
    }
   ],
   "source": [
    "#Selection Sort Code:\n",
    "myList1 = [31,3,34,23,12,54,8,31,9,5,15,16]\n",
    "myList2 = [1,3,5,7,0]\n",
    "def selectionsort(arr):\n",
    "    \n",
    "    n = len(arr)\n",
    "    \n",
    "    for i in range(n):\n",
    "        currentmin = i\n",
    "        for j in range(i+1, n):\n",
    "            if arr[j] < arr[currentmin]:\n",
    "                currentmin = j\n",
    "        arr[i], arr[currentmin] = arr[currentmin], arr[i]\n",
    "        \n",
    "    return arr\n",
    "        \n",
    "selectionsort(myList1)"
   ]
  },
  {
   "cell_type": "code",
   "execution_count": 6,
   "id": "538ab28b",
   "metadata": {},
   "outputs": [],
   "source": [
    "#Insertion Sort: This algorithm builds the final sorted array one element at a time. \n",
    "#It takes each element from the input and inserts it into its correct position in the sorted array. \n",
    "#It has a time complexity of O(n^2), but it can perform well on small input sizes."
   ]
  },
  {
   "cell_type": "code",
   "execution_count": 7,
   "id": "1155b8c5",
   "metadata": {},
   "outputs": [
    {
     "data": {
      "text/plain": [
       "[3, 5, 8, 9, 12, 15, 16, 23, 31, 31, 34, 54]"
      ]
     },
     "execution_count": 7,
     "metadata": {},
     "output_type": "execute_result"
    }
   ],
   "source": [
    "#Insertion Sort Code:\n",
    "myList1 = [31,3,34,23,12,54,8,31,9,5,15,16]\n",
    "myList2 = [1,3,5,7,0]\n",
    "\n",
    "def insertionsort(arr):\n",
    "    \n",
    "    n = len(arr)\n",
    "    \n",
    "    for i in range(1, n):\n",
    "        j = i - 1\n",
    "        while j >= 0 and arr[j] > arr[j+1]:\n",
    "            arr[j], arr[j+1] = arr[j+1], arr[j]\n",
    "            j -= 1\n",
    "            \n",
    "    return arr\n",
    "\n",
    "insertionsort(myList1)"
   ]
  },
  {
   "cell_type": "code",
   "execution_count": 8,
   "id": "085c2e6d",
   "metadata": {},
   "outputs": [],
   "source": [
    "#Merge Sort:A divide-and-conquer algorithm that recursively divides the input into smaller subproblems, \n",
    "#sorts them independently, and then merges the sorted subproblems to obtain the final sorted result. \n",
    "#It has a time complexity of O(n log n) and is known for its stability."
   ]
  },
  {
   "cell_type": "code",
   "execution_count": 9,
   "id": "72739aee",
   "metadata": {},
   "outputs": [],
   "source": [
    "def merge(left, right):\n",
    "    \n",
    "    leftPointer = rightPointer = 0\n",
    "    merged = []\n",
    "    \n",
    "    while leftPointer < len(left) and rightPointer < len(right):\n",
    "        if left[leftPointer] < right[rightPointer]:\n",
    "            merged.append(left[leftPointer])\n",
    "            leftPointer += 1\n",
    "        else:\n",
    "            merged.append(right[rightPointer])\n",
    "            rightPointer += 1\n",
    "    \n",
    "    while leftPointer < len(left):\n",
    "        merged.append(left[leftPointer])\n",
    "        leftPointer += 1\n",
    "        \n",
    "    while rightPointer < len(right):\n",
    "        merged.append(right[rightPointer])\n",
    "        rightPointer += 1\n",
    "        \n",
    "    return merged\n",
    "\n",
    "def mergesort(arr):\n",
    "    \n",
    "    if len(arr) == 1:\n",
    "        return arr\n",
    "    \n",
    "    midpoint = len(arr) // 2\n",
    "    left_half = mergesort(arr[:midpoint])\n",
    "    right_half = mergesort(arr[midpoint:])\n",
    "    \n",
    "    return merge(left_half, right_half)"
   ]
  },
  {
   "cell_type": "code",
   "execution_count": 10,
   "id": "87350cd7",
   "metadata": {},
   "outputs": [
    {
     "data": {
      "text/plain": [
       "[3, 5, 8, 9, 12, 15, 16, 23, 31, 31, 34, 54]"
      ]
     },
     "execution_count": 10,
     "metadata": {},
     "output_type": "execute_result"
    }
   ],
   "source": [
    "myList1 = [31,3,34,23,12,54,8,31,9,5,15,16]\n",
    "myList2 = [1,3,5,7,0]\n",
    "\n",
    "mergesort(myList1)"
   ]
  },
  {
   "cell_type": "code",
   "execution_count": 11,
   "id": "08a8f03d",
   "metadata": {},
   "outputs": [],
   "source": [
    "#Quick Sort: Another divide-and-conquer algorithm that selects a pivot element, \n",
    "#partitions the input into two subarrays based on the pivot, and recursively sorts the subarrays. \n",
    "#It has an average time complexity of O(n log n) but can degrade to O(n^2) in the worst case."
   ]
  },
  {
   "cell_type": "code",
   "execution_count": 12,
   "id": "1ff18c9a",
   "metadata": {},
   "outputs": [],
   "source": [
    "#Quick Sort Code:\n",
    "def quicksort(arr):\n",
    "    \n",
    "    if len(arr) <= 1:\n",
    "        return arr\n",
    "    \n",
    "    pivot = arr[len(arr) // 2]\n",
    "    smaller = [element for element in arr if element < pivot]\n",
    "    equal = [element for element in arr if element == pivot]\n",
    "    bigger = [element for element in arr if element > pivot]\n",
    "    \n",
    "    sorted_smaller = quicksort(smaller)\n",
    "    sorted_bigger = quicksort(bigger)\n",
    "    \n",
    "    return sorted_smaller + equal + sorted_bigger"
   ]
  },
  {
   "cell_type": "code",
   "execution_count": 13,
   "id": "37137c4d",
   "metadata": {},
   "outputs": [
    {
     "data": {
      "text/plain": [
       "[3, 5, 8, 9, 12, 15, 16, 23, 31, 31, 34, 54]"
      ]
     },
     "execution_count": 13,
     "metadata": {},
     "output_type": "execute_result"
    }
   ],
   "source": [
    "myList1 = [31,3,34,23,12,54,8,31,9,5,15,16]\n",
    "myList2 = [1,3,5,7,0]\n",
    "\n",
    "quicksort(myList1)"
   ]
  },
  {
   "cell_type": "code",
   "execution_count": 14,
   "id": "6c162a88",
   "metadata": {},
   "outputs": [],
   "source": [
    "#Heap is complete binary tree, that satisfies the heap property. Every node has bigger value than its children for max heap, vice versa for min heap.\n",
    "#All node places are filled level by level, from left to right. So all node places are full except (mb) last level.\n",
    "#Heaps support efficient operations such as insertion, deletion, and retrieval of the maximum (or minimum) element. \n",
    "#These operations have a time complexity of O(log n), where n is the number of elements in the heap. \n",
    "#Building a heap from an array of elements can be done in linear time, with a time complexity of O(n)."
   ]
  },
  {
   "cell_type": "code",
   "execution_count": 15,
   "id": "ecc15c78",
   "metadata": {},
   "outputs": [],
   "source": [
    "#Heap Sort:This algorithm uses a binary heap data structure to build a partially sorted tree. \n",
    "#It repeatedly extracts the maximum element from the heap and places it in its correct position. \n",
    "#It has a time complexity of O(n log n)."
   ]
  },
  {
   "cell_type": "code",
   "execution_count": 16,
   "id": "686e58fc",
   "metadata": {},
   "outputs": [],
   "source": [
    "#Heap Sort Code:\n",
    "def heapify(arr, n, i):\n",
    "    \n",
    "    largest = i\n",
    "    left = 2 * i + 1\n",
    "    right = 2 * i + 2\n",
    "    \n",
    "    if left < n and arr[left] > arr[largest]:\n",
    "        largest = left\n",
    "        \n",
    "    if right < n and arr[right] > arr[largest]:\n",
    "        largest = right\n",
    "        \n",
    "    if i != largest:\n",
    "        arr[largest], arr[i] = arr[i], arr[largest]\n",
    "        heapify(arr, n, largest)\n",
    "    \n",
    "\n",
    "def heapsort(arr):\n",
    "    \n",
    "    n = len(arr)\n",
    "    \n",
    "    for i in range(n // 2 - 1, -1, -1):\n",
    "        heapify(arr, n, i)\n",
    "        \n",
    "    for j in range(n - 1, 0, -1):\n",
    "        arr[j], arr[0] = arr[0], arr[j]\n",
    "        heapify(arr, j, 0)\n",
    "        \n",
    "    return arr    "
   ]
  },
  {
   "cell_type": "code",
   "execution_count": 17,
   "id": "07c20f34",
   "metadata": {},
   "outputs": [
    {
     "data": {
      "text/plain": [
       "[3, 5, 8, 9, 12, 15, 16, 23, 31, 31, 34, 54]"
      ]
     },
     "execution_count": 17,
     "metadata": {},
     "output_type": "execute_result"
    }
   ],
   "source": [
    "myList1 = [31,3,34,23,12,54,8,31,9,5,15,16]\n",
    "myList2 = [1,3,5,7,0]\n",
    "\n",
    "heapsort(myList1)"
   ]
  },
  {
   "cell_type": "code",
   "execution_count": 18,
   "id": "06a0e417",
   "metadata": {},
   "outputs": [],
   "source": [
    "#1.K-Closest Points\n",
    "#Input: points = [[3,3],[5,-1],[-2,4]], k = 2\n",
    "#Output: [[3,3],[-2,4]]\n",
    "#Explanation: The answer [[-2,4],[3,3]] would also be accepted."
   ]
  },
  {
   "cell_type": "code",
   "execution_count": 19,
   "id": "d2d5d2c9",
   "metadata": {},
   "outputs": [
    {
     "data": {
      "text/plain": [
       "[[-2, 4], [3, 3]]"
      ]
     },
     "execution_count": 19,
     "metadata": {},
     "output_type": "execute_result"
    }
   ],
   "source": [
    "#Time-Complexity -> O(nlogn)\n",
    "import heapq\n",
    "\n",
    "class Solution:\n",
    "    def kClosest(self, points, k):\n",
    "        heap = []\n",
    "        for point in points:\n",
    "            distance = point[0] ** 2 + point[1] ** 2\n",
    "            heapq.heappush(heap, (-distance, point))\n",
    "            if len(heap) > k:\n",
    "                heapq.heappop(heap)\n",
    "        \n",
    "        return [point for distance, point in heap]\n",
    "        \n",
    "\n",
    "points = [[3,3],[5,-1],[-2,4]]\n",
    "k = 2\n",
    "solution = Solution()\n",
    "solution.kClosest(points, k)"
   ]
  },
  {
   "cell_type": "code",
   "execution_count": 20,
   "id": "b212b636",
   "metadata": {},
   "outputs": [],
   "source": [
    "#2.Find Median from Data Stream\n",
    "#[\"MedianFinder\", \"addNum\", \"addNum\", \"findMedian\", \"addNum\", \"findMedian\"]\n",
    "#[[], [1], [2], [], [3], []]\n",
    "#Output\n",
    "#[null, null, null, 1.5, null, 2.0]"
   ]
  },
  {
   "cell_type": "code",
   "execution_count": 21,
   "id": "534ee17d",
   "metadata": {},
   "outputs": [],
   "source": [
    "#Time-Complexity -> O(nlogn)\n",
    "import heapq\n",
    "class MedianFinder:\n",
    "\n",
    "    def __init__(self):\n",
    "        self.small = []\n",
    "        self.large = []\n",
    "\n",
    "    def addNum(self, num: int) -> None:\n",
    "        if len(self.small) == len(self.large):\n",
    "            heapq.heappush(self.large, -heapq.heappushpop(self.small, -num))\n",
    "        else:\n",
    "            heapq.heappush(self.small, -heapq.heappushpop(self.large, num))\n",
    "            \n",
    "    def findMedian(self) -> float:\n",
    "        if len(self.small) == len(self.large):\n",
    "            return (self.small[0] + self.large[0]) / 2\n",
    "        else:\n",
    "            return self.large[0]"
   ]
  },
  {
   "cell_type": "code",
   "execution_count": 22,
   "id": "89e64f8c",
   "metadata": {},
   "outputs": [
    {
     "name": "stdout",
     "output_type": "stream",
     "text": [
      "3\n"
     ]
    }
   ],
   "source": [
    "medianfinder = MedianFinder()\n",
    "medianfinder.addNum(1)\n",
    "medianfinder.addNum(3)\n",
    "medianfinder.addNum(5)\n",
    "median = medianfinder.findMedian()\n",
    "print(median)"
   ]
  },
  {
   "cell_type": "code",
   "execution_count": 25,
   "id": "53779667",
   "metadata": {},
   "outputs": [],
   "source": [
    "import bisect\n",
    "\n",
    "class MedianFinder:\n",
    "    def __init__(self):\n",
    "        self.data = []\n",
    "\n",
    "    def addNum(self, num):\n",
    "        bisect.insort(self.data, num)\n",
    "\n",
    "    def findMedian(self):\n",
    "        n = len(self.data)\n",
    "        if n % 2 == 0:\n",
    "            mid_right = n // 2\n",
    "            mid_left = mid_right - 1\n",
    "            return (self.data[mid_left] + self.data[mid_right]) / 2.0\n",
    "        else:\n",
    "            mid = n // 2\n",
    "            return float(self.data[mid])"
   ]
  },
  {
   "cell_type": "code",
   "execution_count": 26,
   "id": "59884eec",
   "metadata": {},
   "outputs": [
    {
     "name": "stdout",
     "output_type": "stream",
     "text": [
      "5.0\n"
     ]
    }
   ],
   "source": [
    "medianfinder = MedianFinder()\n",
    "medianfinder.addNum(5)\n",
    "medianfinder.addNum(3)\n",
    "medianfinder.addNum(25)\n",
    "median = medianfinder.findMedian()\n",
    "print(median)"
   ]
  },
  {
   "cell_type": "code",
   "execution_count": null,
   "id": "d2c957bd",
   "metadata": {},
   "outputs": [],
   "source": []
  }
 ],
 "metadata": {
  "kernelspec": {
   "display_name": "Python 3 (ipykernel)",
   "language": "python",
   "name": "python3"
  },
  "language_info": {
   "codemirror_mode": {
    "name": "ipython",
    "version": 3
   },
   "file_extension": ".py",
   "mimetype": "text/x-python",
   "name": "python",
   "nbconvert_exporter": "python",
   "pygments_lexer": "ipython3",
   "version": "3.10.9"
  }
 },
 "nbformat": 4,
 "nbformat_minor": 5
}
