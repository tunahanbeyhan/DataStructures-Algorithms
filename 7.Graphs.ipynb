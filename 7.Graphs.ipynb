{
 "cells": [
  {
   "cell_type": "code",
   "execution_count": 1,
   "id": "74b6cf6d",
   "metadata": {},
   "outputs": [],
   "source": [
    "#Graphs are another fundamental data structure used to represent the relationship or connection between entities.\n",
    "#A graph consist of set of vertices(also called nodes) and set of edges that connect those vertices.\n",
    "#Those edges may be directed (specific direction) or undirected (bidirectional).\n",
    "#Moreover, they may also have weight or cost associated with their edges. \n",
    "#Representation in graph is mainly performed with Adjaceny Matrix and Adjaceny List.\n",
    "#Both BFS and DFS are used for traversal.\n",
    "#Commonly used in optimization problems.\n",
    "\n",
    "#Matrix vs List -> BigO :\n",
    "#                   Matrix     vs      Dictionary\n",
    "#Space ->             O(V2)     |          O(V+E)\n",
    "#Insert(Vertex)->     O(V2)     |          O(1)\n",
    "#Insert(Edge)->       O(1)      |          O(1)\n",
    "#Delete(Vertex)->     O(V2)     |          O(V+E)\n",
    "#Delete(Edge)->       O(1)      |          O(E)"
   ]
  },
  {
   "cell_type": "code",
   "execution_count": 2,
   "id": "f2f83115",
   "metadata": {},
   "outputs": [],
   "source": [
    "#Graph Implementation: (Bidirectional)\n",
    "class Graph:\n",
    "    def __init__(self):\n",
    "        self.adjDict = {}\n",
    "        \n",
    "    def addVertex(self, vertex):\n",
    "        if vertex not in self.adjDict.keys():\n",
    "            self.adjDict[vertex] = []\n",
    "            return True\n",
    "        return False\n",
    "    \n",
    "    def addEdge(self, v1, v2):\n",
    "        if v1 in self.adjDict.keys() and v2 in self.adjDict.keys():\n",
    "            if v1 not in self.adjDict[v2]:\n",
    "                self.adjDict[v2].append(v1)\n",
    "            if v2 not in self.adjDict[v1]:\n",
    "                self.adjDict[v1].append(v2) \n",
    "            return True\n",
    "        return False\n",
    "    \n",
    "    def removeVertex(self, vertex):\n",
    "        if vertex in self.adjDict.keys():\n",
    "            for adjacent in self.adjDict[vertex]:\n",
    "                self.adjDict[adjacent].remove(vertex)\n",
    "            del self.adjDict[vertex]\n",
    "            return True\n",
    "        return False\n",
    "    \n",
    "    def removeEdge(self, v1, v2):\n",
    "        if v1 in self.adjDict.keys() and v2 in self.adjDict.keys():\n",
    "            if v2 in self.adjDict[v1]:\n",
    "                self.adjDict[v1].remove(v2)\n",
    "            if v1 in self.adjDict[v2]:\n",
    "                self.adjDict[v2].remove(v1) \n",
    "            return True\n",
    "        return False\n",
    "    def printGraph(self):\n",
    "        for item in self.adjDict:\n",
    "            print(f\"{item} | {self.adjDict[item]}\")"
   ]
  },
  {
   "cell_type": "code",
   "execution_count": 3,
   "id": "db3ee3ff",
   "metadata": {},
   "outputs": [],
   "source": [
    "myGraph = Graph()"
   ]
  },
  {
   "cell_type": "code",
   "execution_count": 4,
   "id": "27fde3d4",
   "metadata": {},
   "outputs": [
    {
     "data": {
      "text/plain": [
       "True"
      ]
     },
     "execution_count": 4,
     "metadata": {},
     "output_type": "execute_result"
    }
   ],
   "source": [
    "myGraph.addVertex(\"Tuna\")\n",
    "myGraph.addVertex(\"İlayda\")\n",
    "myGraph.addVertex(\"Hayrettin\")\n",
    "myGraph.addVertex(\"Lale\")\n",
    "myGraph.addVertex(\"Zeynep\")\n",
    "myGraph.addVertex(\"Elon\")\n",
    "myGraph.addVertex(\"Powell\")"
   ]
  },
  {
   "cell_type": "code",
   "execution_count": 5,
   "id": "4c534cee",
   "metadata": {},
   "outputs": [
    {
     "data": {
      "text/plain": [
       "True"
      ]
     },
     "execution_count": 5,
     "metadata": {},
     "output_type": "execute_result"
    }
   ],
   "source": [
    "myGraph.addEdge(\"Tuna\", \"İlayda\")\n",
    "myGraph.addEdge(\"Tuna\", \"Hayrettin\")\n",
    "myGraph.addEdge(\"Tuna\", \"Lale\")\n",
    "myGraph.addEdge(\"Tuna\", \"Zeynep\")\n",
    "myGraph.addEdge(\"İlayda\", \"Zeynep\")\n",
    "myGraph.addEdge(\"Hayrettin\", \"Lale\")\n",
    "myGraph.addEdge(\"Hayrettin\", \"Zeynep\")\n",
    "myGraph.addEdge(\"Hayrettin\", \"Elon\")\n",
    "myGraph.addEdge(\"Hayrettin\", \"Powell\")\n",
    "myGraph.addEdge(\"Lale\", \"Zeynep\")\n",
    "myGraph.addEdge(\"Lale\", \"Elon\")\n"
   ]
  },
  {
   "cell_type": "code",
   "execution_count": 6,
   "id": "d960e808",
   "metadata": {},
   "outputs": [
    {
     "name": "stdout",
     "output_type": "stream",
     "text": [
      "Tuna | ['İlayda', 'Hayrettin', 'Lale', 'Zeynep']\n",
      "İlayda | ['Tuna', 'Zeynep']\n",
      "Hayrettin | ['Tuna', 'Lale', 'Zeynep', 'Elon', 'Powell']\n",
      "Lale | ['Tuna', 'Hayrettin', 'Zeynep', 'Elon']\n",
      "Zeynep | ['Tuna', 'İlayda', 'Hayrettin', 'Lale']\n",
      "Elon | ['Hayrettin', 'Lale']\n",
      "Powell | ['Hayrettin']\n"
     ]
    }
   ],
   "source": [
    "myGraph.printGraph()"
   ]
  },
  {
   "cell_type": "code",
   "execution_count": 7,
   "id": "547d86e6",
   "metadata": {},
   "outputs": [
    {
     "data": {
      "text/plain": [
       "True"
      ]
     },
     "execution_count": 7,
     "metadata": {},
     "output_type": "execute_result"
    }
   ],
   "source": [
    "myGraph.addEdge(\"Tuna\", \"Tuna\")"
   ]
  },
  {
   "cell_type": "code",
   "execution_count": 8,
   "id": "310d0788",
   "metadata": {},
   "outputs": [
    {
     "name": "stdout",
     "output_type": "stream",
     "text": [
      "Tuna | ['İlayda', 'Hayrettin', 'Lale', 'Zeynep', 'Tuna']\n",
      "İlayda | ['Tuna', 'Zeynep']\n",
      "Hayrettin | ['Tuna', 'Lale', 'Zeynep', 'Elon', 'Powell']\n",
      "Lale | ['Tuna', 'Hayrettin', 'Zeynep', 'Elon']\n",
      "Zeynep | ['Tuna', 'İlayda', 'Hayrettin', 'Lale']\n",
      "Elon | ['Hayrettin', 'Lale']\n",
      "Powell | ['Hayrettin']\n"
     ]
    }
   ],
   "source": [
    "myGraph.printGraph()"
   ]
  },
  {
   "cell_type": "code",
   "execution_count": 9,
   "id": "2715333d",
   "metadata": {},
   "outputs": [],
   "source": [
    "#1.Reorder Routes\n",
    "#n = 6, connections = [[0,1],[1,3],[2,3],[4,0],[4,5]]  output -> 3\n",
    "#n = 5, connections = [[1,0],[1,2],[3,2],[3,4]]   output -> 2"
   ]
  },
  {
   "cell_type": "code",
   "execution_count": 10,
   "id": "1ece4305",
   "metadata": {},
   "outputs": [],
   "source": [
    "class Solution:\n",
    "    def minReorder(self, n, connections):\n",
    "        \n",
    "        neighbours = {}\n",
    "        edges = set()\n",
    "        visited = set()\n",
    "        visited.add(0)\n",
    "        counter = 0\n",
    "        \n",
    "        for a, b in connections:\n",
    "            edges.add((a,b))\n",
    "        for i in range(n):\n",
    "            neighbours[i] = []\n",
    "        for a, b in connections:\n",
    "            neighbours[a].append(b)\n",
    "            neighbours[b].append(a)\n",
    "        \n",
    "        def dfs(city):\n",
    "            nonlocal neighbours, edges, visited, counter\n",
    "            \n",
    "            for neighbour in neighbours[city]:\n",
    "                if neighbour in visited:\n",
    "                    continue\n",
    "                if (neighbour,city) not in edges:\n",
    "                    counter +=1\n",
    "                    visited.add(neighbour)\n",
    "                dfs(neighbour)\n",
    "        dfs(0)\n",
    "        return counter"
   ]
  },
  {
   "cell_type": "code",
   "execution_count": 11,
   "id": "30aa7298",
   "metadata": {},
   "outputs": [
    {
     "data": {
      "text/plain": [
       "3"
      ]
     },
     "execution_count": 11,
     "metadata": {},
     "output_type": "execute_result"
    }
   ],
   "source": [
    "n = 6\n",
    "connections = [[0,1],[1,3],[2,3],[4,0],[4,5]]\n",
    "\n",
    "solution = Solution()\n",
    "solution.minReorder(n, connections)"
   ]
  },
  {
   "cell_type": "code",
   "execution_count": 12,
   "id": "1e6ed588",
   "metadata": {},
   "outputs": [
    {
     "data": {
      "text/plain": [
       "2"
      ]
     },
     "execution_count": 12,
     "metadata": {},
     "output_type": "execute_result"
    }
   ],
   "source": [
    "n = 5 \n",
    "connections = [[1,0],[1,2],[3,2],[3,4]]\n",
    "\n",
    "solution = Solution()\n",
    "solution.minReorder(n, connections)"
   ]
  },
  {
   "cell_type": "code",
   "execution_count": 13,
   "id": "3d9c1956",
   "metadata": {},
   "outputs": [],
   "source": [
    "#2.Number of Islands"
   ]
  },
  {
   "cell_type": "code",
   "execution_count": 14,
   "id": "1a0f7d21",
   "metadata": {},
   "outputs": [],
   "source": [
    "grid1 = [\n",
    "  [\"1\",\"1\",\"1\",\"1\",\"0\"],\n",
    "  [\"1\",\"1\",\"0\",\"1\",\"0\"],\n",
    "  [\"1\",\"1\",\"0\",\"0\",\"0\"],\n",
    "  [\"0\",\"0\",\"0\",\"0\",\"0\"]\n",
    "]\n",
    "#output-> 1\n",
    "grid2 = [\n",
    "  [\"1\",\"1\",\"0\",\"0\",\"0\"],\n",
    "  [\"1\",\"1\",\"0\",\"0\",\"0\"],\n",
    "  [\"0\",\"0\",\"1\",\"0\",\"0\"],\n",
    "  [\"0\",\"0\",\"0\",\"1\",\"1\"]\n",
    "]\n",
    "#output-> 2"
   ]
  },
  {
   "cell_type": "code",
   "execution_count": 15,
   "id": "479801d8",
   "metadata": {},
   "outputs": [],
   "source": [
    "class Solution:\n",
    "    def numIslands(self, grid):\n",
    "        rowNumber = len(grid)\n",
    "        columnNumber = len(grid[0])\n",
    "        visited = set()\n",
    "        island_counter = 0\n",
    "        \n",
    "        def bfs(row, column):\n",
    "            myQueue = []\n",
    "            myQueue.append((row, column))\n",
    "            visited.add((row, column))\n",
    "            while len(myQueue) > 0:\n",
    "                currentRow, currentColumn = myQueue.pop(0)\n",
    "                directions = [[1, 0], [0, 1], [-1, 0], [0, -1]]\n",
    "                for direction in directions:\n",
    "                    newRow = currentRow + direction[0]\n",
    "                    newColumn = currentColumn + direction[1]\n",
    "                    if (newRow in range(rowNumber) and\n",
    "                    newColumn in range(columnNumber) and\n",
    "                    (newRow, newColumn) not in visited and\n",
    "                    grid[newRow][newColumn] == \"1\"):\n",
    "                        myQueue.append((newRow, newColumn))\n",
    "                        visited.add((newRow, newColumn))\n",
    "        \n",
    "        for i in range(rowNumber):\n",
    "            for j in range(columnNumber):\n",
    "                if (i, j) not in visited and grid[i][j] == \"1\":\n",
    "                    island_counter += 1\n",
    "                    bfs(i, j)\n",
    "                    \n",
    "        return island_counter"
   ]
  },
  {
   "cell_type": "code",
   "execution_count": 16,
   "id": "0c566026",
   "metadata": {},
   "outputs": [],
   "source": [
    "mySolution = Solution()"
   ]
  },
  {
   "cell_type": "code",
   "execution_count": 17,
   "id": "93d2fcc5",
   "metadata": {},
   "outputs": [
    {
     "data": {
      "text/plain": [
       "1"
      ]
     },
     "execution_count": 17,
     "metadata": {},
     "output_type": "execute_result"
    }
   ],
   "source": [
    "mySolution.numIslands(grid1)"
   ]
  },
  {
   "cell_type": "code",
   "execution_count": 18,
   "id": "ffe58f07",
   "metadata": {},
   "outputs": [
    {
     "data": {
      "text/plain": [
       "3"
      ]
     },
     "execution_count": 18,
     "metadata": {},
     "output_type": "execute_result"
    }
   ],
   "source": [
    "mySolution.numIslands(grid2)"
   ]
  },
  {
   "cell_type": "code",
   "execution_count": 19,
   "id": "03c8b79f",
   "metadata": {},
   "outputs": [],
   "source": [
    "#3.Redundant Connection\n",
    "#Input: edges = [[1,2],[1,3],[2,3]]\n",
    "#Output: [2,3]\n",
    "#Input: edges = [[1,2],[2,3],[3,4],[1,4],[1,5]]\n",
    "#Output: [1,4]"
   ]
  },
  {
   "cell_type": "code",
   "execution_count": 20,
   "id": "1d384386",
   "metadata": {},
   "outputs": [],
   "source": [
    "class Solution:\n",
    "    def findRedundantConnection(self, edges):\n",
    "        parents = [edge for edge in range(len(edges)+1)]\n",
    "        ranks = [0 for edge in range(len(edges)+1)]\n",
    "        \n",
    "        def find(n):\n",
    "            parent = parents[n]\n",
    "            while parent != parents[parent]:\n",
    "                parents[parent] = parents[parents[parent]]\n",
    "                parent = parents[parent]\n",
    "            return parent\n",
    "        \n",
    "        def union(n1,n2):\n",
    "            \n",
    "            parent1, parent2 = find(n1), find(n2)\n",
    "            \n",
    "            if parent1 == parent2:\n",
    "                #Connected!\n",
    "                return False\n",
    "            \n",
    "            if ranks[parent1] < ranks[parent2]:\n",
    "                parents[parent1] = parent2\n",
    "            elif ranks[parent1] > ranks[parent2]:\n",
    "                parents[parent2] = parent1\n",
    "            else:\n",
    "                parents[parent1] = parent2\n",
    "                ranks[parent2] += 1\n",
    "            return True\n",
    "        \n",
    "        for n1, n2 in edges:\n",
    "            if not union(n1,n2):\n",
    "                return [n1,n2]"
   ]
  },
  {
   "cell_type": "code",
   "execution_count": 21,
   "id": "e4d71cf4",
   "metadata": {},
   "outputs": [
    {
     "data": {
      "text/plain": [
       "[2, 3]"
      ]
     },
     "execution_count": 21,
     "metadata": {},
     "output_type": "execute_result"
    }
   ],
   "source": [
    "edges1 = [[1,2],[1,3],[2,3]]\n",
    "edges2 = [[1,2],[2,3],[3,4],[1,4],[1,5]]\n",
    "solution = Solution()\n",
    "\n",
    "solution.findRedundantConnection(edges1)"
   ]
  },
  {
   "cell_type": "code",
   "execution_count": 22,
   "id": "81c5ded2",
   "metadata": {},
   "outputs": [
    {
     "data": {
      "text/plain": [
       "[1, 4]"
      ]
     },
     "execution_count": 22,
     "metadata": {},
     "output_type": "execute_result"
    }
   ],
   "source": [
    "solution.findRedundantConnection(edges2)"
   ]
  }
 ],
 "metadata": {
  "kernelspec": {
   "display_name": "Python 3 (ipykernel)",
   "language": "python",
   "name": "python3"
  },
  "language_info": {
   "codemirror_mode": {
    "name": "ipython",
    "version": 3
   },
   "file_extension": ".py",
   "mimetype": "text/x-python",
   "name": "python",
   "nbconvert_exporter": "python",
   "pygments_lexer": "ipython3",
   "version": "3.10.9"
  }
 },
 "nbformat": 4,
 "nbformat_minor": 5
}
