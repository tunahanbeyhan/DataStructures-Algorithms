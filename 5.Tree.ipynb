{
 "cells": [
  {
   "cell_type": "code",
   "execution_count": 1,
   "id": "d3ca554e",
   "metadata": {},
   "outputs": [],
   "source": [
    "#Trees are collection type data structures consisting of nodes connected by edges.\n",
    "#They are widely used in computer science to represent hierarchical relationships or structures.\n",
    "#In a tree, each node can have zero or more child nodes, except for the root node, which is the topmost node and has no parent. \n",
    "#The nodes below a given node are called its children, and the node directly above is its parent. \n",
    "#Nodes at the same level in the tree are called siblings. \n",
    "#The node at the deepest level, with no children, is called a leaf node.\n",
    "#Root(parent)--->Branch(parent)--->Leaf(child)\n",
    "\n",
    "#Binary Trees: A binary tree is a tree in which each node has at most two children, referred to as the left and the right child. \n",
    "#Binary trees are commonly used for efficient searching and sorting algorithms, such as binary search trees and heaps.\n",
    "\n",
    "#Binary Search Trees: A binary search tree is a special type of binary tree: parent.value >= left.val & parent.val <= right.val\n",
    "#BSTs provide efficient search, insertion, and deletion operations, making them useful for ordered data structures.\n",
    "\n",
    "#The most commonly used tree type is BSTs and we will focus on that.\n",
    "#BST in a worst case is very similiar to a linked list, so teoretically O(n) but pratically O(logn) for insertion, deletion, searching."
   ]
  },
  {
   "cell_type": "code",
   "execution_count": 2,
   "id": "ddd98d82",
   "metadata": {},
   "outputs": [],
   "source": [
    "#Write BST yourself!\n",
    "class Node:\n",
    "    def __init__(self, value):\n",
    "        self.value = value\n",
    "        self.left = None\n",
    "        self.right = None\n",
    "        \n",
    "class BinarySearchTree:\n",
    "    def __init__(self):\n",
    "        self.root = None\n",
    "    \n",
    "    def insert(self, value):\n",
    "        newNode = Node(value)\n",
    "        if self.root is None:\n",
    "            self.root = newNode\n",
    "            return True\n",
    "        tempNode = self.root\n",
    "        while True:\n",
    "            if newNode.value > tempNode.value:\n",
    "                if tempNode.right is None:\n",
    "                    tempNode.right = newNode\n",
    "                    return True\n",
    "                else:\n",
    "                    tempNode = tempNode.right\n",
    "            elif newNode.value < tempNode.value:\n",
    "                if tempNode.left is None:\n",
    "                    tempNode.left = newNode\n",
    "                    return True\n",
    "                else:\n",
    "                    tempNode = tempNode.left\n",
    "            else:\n",
    "                return False\n",
    "    \n",
    "    def contains(self, value):\n",
    "        tempNode = self.root\n",
    "        while tempNode:\n",
    "            if tempNode.value > value:\n",
    "                tempNode = tempNode.left\n",
    "            elif tempNode.value < value:\n",
    "                tempNode = tempNode.right\n",
    "            else:\n",
    "                return True\n",
    "        return False\n",
    "    \n",
    "    def minofnode(self, node):\n",
    "        while node.left:\n",
    "            node = node.left\n",
    "        return node\n",
    "    \n",
    "    def maxofnode(self, node):\n",
    "        while node.right:\n",
    "            node = node.right\n",
    "        return node"
   ]
  },
  {
   "cell_type": "code",
   "execution_count": 3,
   "id": "fd0f29dd",
   "metadata": {},
   "outputs": [],
   "source": [
    "myBST = BinarySearchTree()"
   ]
  },
  {
   "cell_type": "code",
   "execution_count": 4,
   "id": "a78b2977",
   "metadata": {},
   "outputs": [
    {
     "data": {
      "text/plain": [
       "True"
      ]
     },
     "execution_count": 4,
     "metadata": {},
     "output_type": "execute_result"
    }
   ],
   "source": [
    "myBST.insert(52)\n",
    "myBST.insert(25)\n",
    "myBST.insert(31)\n",
    "myBST.insert(64)\n",
    "myBST.insert(76)\n",
    "myBST.insert(42)\n",
    "myBST.insert(5)\n",
    "myBST.insert(98)"
   ]
  },
  {
   "cell_type": "code",
   "execution_count": 5,
   "id": "5db3827a",
   "metadata": {},
   "outputs": [
    {
     "data": {
      "text/plain": [
       "True"
      ]
     },
     "execution_count": 5,
     "metadata": {},
     "output_type": "execute_result"
    }
   ],
   "source": [
    "myBST.insert(100)"
   ]
  },
  {
   "cell_type": "code",
   "execution_count": 6,
   "id": "8d5062a2",
   "metadata": {},
   "outputs": [
    {
     "data": {
      "text/plain": [
       "False"
      ]
     },
     "execution_count": 6,
     "metadata": {},
     "output_type": "execute_result"
    }
   ],
   "source": [
    "myBST.contains(99)"
   ]
  },
  {
   "cell_type": "code",
   "execution_count": 7,
   "id": "d820a0a8",
   "metadata": {},
   "outputs": [
    {
     "data": {
      "text/plain": [
       "100"
      ]
     },
     "execution_count": 7,
     "metadata": {},
     "output_type": "execute_result"
    }
   ],
   "source": [
    "myBST.maxofnode(myBST.root).value"
   ]
  },
  {
   "cell_type": "code",
   "execution_count": 8,
   "id": "23293a8d",
   "metadata": {},
   "outputs": [
    {
     "data": {
      "text/plain": [
       "5"
      ]
     },
     "execution_count": 8,
     "metadata": {},
     "output_type": "execute_result"
    }
   ],
   "source": [
    "myBST.minofnode(myBST.root).value"
   ]
  },
  {
   "cell_type": "code",
   "execution_count": 9,
   "id": "77e3d8d6",
   "metadata": {},
   "outputs": [
    {
     "data": {
      "text/plain": [
       "<__main__.Node at 0x1a4c87d5360>"
      ]
     },
     "execution_count": 9,
     "metadata": {},
     "output_type": "execute_result"
    }
   ],
   "source": [
    "myBST.root"
   ]
  },
  {
   "cell_type": "code",
   "execution_count": 10,
   "id": "807ac8b9",
   "metadata": {},
   "outputs": [
    {
     "data": {
      "text/plain": [
       "52"
      ]
     },
     "execution_count": 10,
     "metadata": {},
     "output_type": "execute_result"
    }
   ],
   "source": [
    "myBST.root.value"
   ]
  },
  {
   "cell_type": "code",
   "execution_count": 11,
   "id": "ce4ec43d",
   "metadata": {},
   "outputs": [
    {
     "data": {
      "text/plain": [
       "31"
      ]
     },
     "execution_count": 11,
     "metadata": {},
     "output_type": "execute_result"
    }
   ],
   "source": [
    "myBST.root.left.right.value"
   ]
  },
  {
   "cell_type": "code",
   "execution_count": 12,
   "id": "71f9cc3c",
   "metadata": {},
   "outputs": [
    {
     "data": {
      "text/plain": [
       "120"
      ]
     },
     "execution_count": 12,
     "metadata": {},
     "output_type": "execute_result"
    }
   ],
   "source": [
    "#Recursion\n",
    "def factorial(n):\n",
    "    if n == 0:\n",
    "        return 1\n",
    "    else:\n",
    "        return n * factorial(n-1)\n",
    "\n",
    "factorial(5)"
   ]
  },
  {
   "cell_type": "code",
   "execution_count": 13,
   "id": "db96bdee",
   "metadata": {},
   "outputs": [
    {
     "data": {
      "text/plain": [
       "28"
      ]
     },
     "execution_count": 13,
     "metadata": {},
     "output_type": "execute_result"
    }
   ],
   "source": [
    "def contigousSum(n):\n",
    "    if n == 0:\n",
    "        return 0\n",
    "    else:\n",
    "        return n + contigousSum(n-1)\n",
    "contigousSum(7)"
   ]
  },
  {
   "cell_type": "code",
   "execution_count": 14,
   "id": "6b1598b5",
   "metadata": {},
   "outputs": [
    {
     "data": {
      "text/plain": [
       "['a', 'b', 'a', 'b', 'a', 'n', 'u', 't']"
      ]
     },
     "execution_count": 14,
     "metadata": {},
     "output_type": "execute_result"
    }
   ],
   "source": [
    "#reverse string-> Time-complexity-->O(n) | Space-complexity-->O(n) \n",
    "given_list = [\"t\",\"u\",\"n\",\"a\",\"b\",\"a\",\"b\",\"a\"]\n",
    "\n",
    "def reverse_string(given_list):\n",
    "    return [item for item in given_list[::-1]]\n",
    "\n",
    "reverse_string(given_list)"
   ]
  },
  {
   "cell_type": "code",
   "execution_count": 15,
   "id": "a2f39b8e",
   "metadata": {},
   "outputs": [],
   "source": [
    "given_list = [\"t\",\"u\",\"n\",\"a\",\"b\",\"a\",\"b\",\"a\"]"
   ]
  },
  {
   "cell_type": "code",
   "execution_count": 16,
   "id": "3b7945b8",
   "metadata": {},
   "outputs": [],
   "source": [
    "def reverse(given_list):\n",
    "    return (given_list[::-1])"
   ]
  },
  {
   "cell_type": "code",
   "execution_count": 17,
   "id": "66e687a9",
   "metadata": {},
   "outputs": [
    {
     "data": {
      "text/plain": [
       "['a', 'b', 'a', 'b', 'a', 'n', 'u', 't']"
      ]
     },
     "execution_count": 17,
     "metadata": {},
     "output_type": "execute_result"
    }
   ],
   "source": [
    "reverse(given_list)"
   ]
  },
  {
   "cell_type": "code",
   "execution_count": 18,
   "id": "84a79951",
   "metadata": {},
   "outputs": [
    {
     "data": {
      "text/plain": [
       "['t', 'u', 'n', 'a', 'b', 'a', 'b', 'a']"
      ]
     },
     "execution_count": 18,
     "metadata": {},
     "output_type": "execute_result"
    }
   ],
   "source": [
    "given_list"
   ]
  },
  {
   "cell_type": "code",
   "execution_count": 19,
   "id": "671f18f3",
   "metadata": {},
   "outputs": [
    {
     "data": {
      "text/plain": [
       "['a', 'b', 'a', 'b', 'a', 'n', 'u', 't']"
      ]
     },
     "execution_count": 19,
     "metadata": {},
     "output_type": "execute_result"
    }
   ],
   "source": [
    "def reverse_recursive(given_list, start=0, end=len(given_list)-1):\n",
    "    if start < end:\n",
    "        given_list[start], given_list[end] = given_list[end], given_list[start]\n",
    "        reverse_recursive(given_list, start+1, end-1)\n",
    "        return given_list\n",
    "\n",
    "reverse_recursive(given_list)    "
   ]
  },
  {
   "cell_type": "code",
   "execution_count": 22,
   "id": "e710e821",
   "metadata": {},
   "outputs": [],
   "source": [
    "#Recursion vs Iteration\n",
    "#Fibonacci\n",
    "def recursivefibonacci(n):\n",
    "    if n == 0 or n == 1:\n",
    "        return n\n",
    "    else:\n",
    "        return (recursivefibonacci(n-1) + recursivefibonacci(n-2))"
   ]
  },
  {
   "cell_type": "code",
   "execution_count": 23,
   "id": "a30d6d1a",
   "metadata": {},
   "outputs": [
    {
     "data": {
      "text/plain": [
       "13"
      ]
     },
     "execution_count": 23,
     "metadata": {},
     "output_type": "execute_result"
    }
   ],
   "source": [
    "recursivefibonacci(7)"
   ]
  },
  {
   "cell_type": "code",
   "execution_count": 24,
   "id": "8e14a5b6",
   "metadata": {},
   "outputs": [
    {
     "data": {
      "text/plain": [
       "13"
      ]
     },
     "execution_count": 24,
     "metadata": {},
     "output_type": "execute_result"
    }
   ],
   "source": [
    "def iterativefibonacci(n):\n",
    "    x, y = 0, 1\n",
    "    for _ in range(n):\n",
    "        x, y = y, x + y\n",
    "    return x\n",
    "\n",
    "iterativefibonacci(7)"
   ]
  },
  {
   "cell_type": "code",
   "execution_count": 25,
   "id": "00b35aeb",
   "metadata": {},
   "outputs": [],
   "source": [
    "#Memoization is a technique used in computer programming to optimize the execution time of a function by caching (or memorizing) its results for specific inputs. \n",
    "#The main idea behind memoization is to avoid redundant computations by storing the computed values and returning them directly when the function is called with the same inputs again. \n",
    "#This can significantly improve the performance of functions that have overlapping subproblems or repetitive recursive calls.\n",
    "#For instance;"
   ]
  },
  {
   "cell_type": "code",
   "execution_count": 26,
   "id": "73053f00",
   "metadata": {},
   "outputs": [],
   "source": [
    "myList = [5, 7, 8, 5, 5, 7, 8, 31, 5, 31, 7, 31]\n",
    "def iterativefibonacci(n):\n",
    "    x, y = 0, 1\n",
    "    for _ in range(n):\n",
    "        x, y = y, x+y\n",
    "    return x "
   ]
  },
  {
   "cell_type": "code",
   "execution_count": 27,
   "id": "59a08f04",
   "metadata": {},
   "outputs": [
    {
     "name": "stdout",
     "output_type": "stream",
     "text": [
      "15.4 µs ± 323 ns per loop (mean ± std. dev. of 1000 runs, 1,000 loops each)\n"
     ]
    }
   ],
   "source": [
    "%%timeit -r 1000 -n 1000\n",
    "for item in myList:\n",
    "    iterativefibonacci(item)"
   ]
  },
  {
   "cell_type": "code",
   "execution_count": 32,
   "id": "11c77fa2",
   "metadata": {},
   "outputs": [
    {
     "name": "stdout",
     "output_type": "stream",
     "text": [
      "8.24 µs ± 231 ns per loop (mean ± std. dev. of 1000 runs, 1,000 loops each)\n"
     ]
    }
   ],
   "source": [
    "%%timeit -r 1000 -n 1000\n",
    "memo = {}\n",
    "def memoSolution(n):\n",
    "    if n not in memo:\n",
    "        memo[n] = iterativefibonacci(n)\n",
    "    return memo[n]\n",
    "for item in myList:\n",
    "    memoSolution(item)"
   ]
  },
  {
   "cell_type": "code",
   "execution_count": 33,
   "id": "c505b3ed",
   "metadata": {},
   "outputs": [],
   "source": [
    "#Invert Binary Tree"
   ]
  },
  {
   "cell_type": "code",
   "execution_count": 34,
   "id": "03da28b1",
   "metadata": {},
   "outputs": [],
   "source": [
    "#Write BST yourself!\n",
    "class Node():\n",
    "    def __init__(self, value):\n",
    "        self.value = value\n",
    "        self.left = None\n",
    "        self.right = None\n",
    "        \n",
    "class BinarySearchTree():\n",
    "    \n",
    "    def __init__(self):\n",
    "        self.root = None\n",
    "        \n",
    "    def insert(self, value):\n",
    "        newNode = Node(value)\n",
    "        if self.root == None:\n",
    "            self.root = newNode\n",
    "            return True\n",
    "        tempNode = self.root\n",
    "        while True:\n",
    "            if newNode.value == tempNode.value:\n",
    "                return False\n",
    "            elif newNode.value > tempNode.value:\n",
    "                if tempNode.right == None:\n",
    "                    tempNode.right = newNode\n",
    "                    return True\n",
    "                else:\n",
    "                    tempNode = tempNode.right\n",
    "            else:\n",
    "                if tempNode.left == None:\n",
    "                    tempNode.left = newNode\n",
    "                    return True\n",
    "                else:\n",
    "                    tempNode = tempNode.left\n",
    "                    \n",
    "    def contains(self, value):\n",
    "        tempNode = self.root\n",
    "        while tempNode:\n",
    "            if tempNode.value > value:\n",
    "                tempNode = tempNode.left\n",
    "            elif tempNode.value < value:\n",
    "                tempNode = tempNode.right\n",
    "            else:\n",
    "                return True\n",
    "        return False\n",
    "        \n",
    "    def minofnode(self, givenNode):\n",
    "        while givenNode.left:\n",
    "            givenNode = givenNode.left\n",
    "        return givenNode\n",
    "    def maxofnode(self, givenNode):\n",
    "        while givenNode.right:\n",
    "            givenNode = givenNode.right\n",
    "        return givenNode\n",
    "    "
   ]
  },
  {
   "cell_type": "code",
   "execution_count": 35,
   "id": "23bdd6ee",
   "metadata": {},
   "outputs": [
    {
     "data": {
      "text/plain": [
       "True"
      ]
     },
     "execution_count": 35,
     "metadata": {},
     "output_type": "execute_result"
    }
   ],
   "source": [
    "myBST = BinarySearchTree()\n",
    "myBST.insert(4)\n",
    "myBST.insert(2)\n",
    "myBST.insert(7)\n",
    "myBST.insert(1)\n",
    "myBST.insert(3)\n",
    "myBST.insert(6)\n",
    "myBST.insert(9)"
   ]
  },
  {
   "cell_type": "code",
   "execution_count": 36,
   "id": "308a754d",
   "metadata": {},
   "outputs": [],
   "source": [
    "def invertBinaryTree(root):\n",
    "    if root is None:\n",
    "        return None\n",
    "    root.left, root.right = root.right, root.left\n",
    "    invertBinaryTree(root.left)\n",
    "    invertBinaryTree(root.right)\n",
    "    return root"
   ]
  },
  {
   "cell_type": "code",
   "execution_count": 37,
   "id": "839f0574",
   "metadata": {},
   "outputs": [],
   "source": [
    "inverted_tree = invertBinaryTree(myBST.root)"
   ]
  },
  {
   "cell_type": "code",
   "execution_count": 38,
   "id": "520bfb5b",
   "metadata": {},
   "outputs": [
    {
     "data": {
      "text/plain": [
       "9"
      ]
     },
     "execution_count": 38,
     "metadata": {},
     "output_type": "execute_result"
    }
   ],
   "source": [
    "inverted_tree.left.left.value"
   ]
  }
 ],
 "metadata": {
  "kernelspec": {
   "display_name": "Python 3 (ipykernel)",
   "language": "python",
   "name": "python3"
  },
  "language_info": {
   "codemirror_mode": {
    "name": "ipython",
    "version": 3
   },
   "file_extension": ".py",
   "mimetype": "text/x-python",
   "name": "python",
   "nbconvert_exporter": "python",
   "pygments_lexer": "ipython3",
   "version": "3.10.9"
  }
 },
 "nbformat": 4,
 "nbformat_minor": 5
}
