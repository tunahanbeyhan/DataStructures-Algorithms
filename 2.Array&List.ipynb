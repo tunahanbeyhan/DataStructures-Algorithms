{
 "cells": [
  {
   "cell_type": "code",
   "execution_count": 1,
   "id": "302bfac9",
   "metadata": {},
   "outputs": [],
   "source": [
    "#Both arrays and lists are collection-type data structures; however, they have some key differences in terms of characteristics and functionality.\n",
    "#Arrays are a contiguous blocks of memory with a fixed-size sequence of elements of the same type. Elements can be accessed with their index in constant time complexity.\n",
    "#Lists don't require a contiguous block of memory, they are typically implemented as linked structures. The references of elements are stored in a sequence. So that, it allows for dynamic memory allocation. \n",
    "#Elements are accessed by traversing the list from beginning or end, which has linear time complexity.\n",
    "\n",
    "#Size: Arrays have fixed size | List size can change dynamically.\n",
    "#Memory Allocation: Arrays require contiguous memory allocation | Lists use dynamic memory allocation.\n",
    "#Insertion and Deletion: Needs shifting all other elements in array | By just updating references in lists.\n",
    "#Random Access: Arrays uses index and have constant time access | Lists requires traversal and have linear time access."
   ]
  },
  {
   "cell_type": "code",
   "execution_count": 2,
   "id": "73129cd0",
   "metadata": {},
   "outputs": [],
   "source": [
    "myList = [0, 3, 6, 9, 12]"
   ]
  },
  {
   "cell_type": "code",
   "execution_count": 3,
   "id": "517499e8",
   "metadata": {},
   "outputs": [
    {
     "data": {
      "text/plain": [
       "list"
      ]
     },
     "execution_count": 3,
     "metadata": {},
     "output_type": "execute_result"
    }
   ],
   "source": [
    "type(myList)"
   ]
  },
  {
   "cell_type": "code",
   "execution_count": 4,
   "id": "9d5b65c5",
   "metadata": {},
   "outputs": [],
   "source": [
    "myList.append(15)"
   ]
  },
  {
   "cell_type": "code",
   "execution_count": 5,
   "id": "9681025a",
   "metadata": {},
   "outputs": [
    {
     "data": {
      "text/plain": [
       "[0, 3, 6, 9, 12, 15]"
      ]
     },
     "execution_count": 5,
     "metadata": {},
     "output_type": "execute_result"
    }
   ],
   "source": [
    "myList"
   ]
  },
  {
   "cell_type": "code",
   "execution_count": 6,
   "id": "c9a1704a",
   "metadata": {},
   "outputs": [],
   "source": [
    "# Array\n",
    "import array as arr"
   ]
  },
  {
   "cell_type": "code",
   "execution_count": 7,
   "id": "5ea7fca1",
   "metadata": {},
   "outputs": [],
   "source": [
    "myArray = arr.array(\"i\", [1, 2, 3, 4, 5])"
   ]
  },
  {
   "cell_type": "code",
   "execution_count": 8,
   "id": "f17da266",
   "metadata": {},
   "outputs": [
    {
     "data": {
      "text/plain": [
       "array('i', [1, 2, 3, 4, 5])"
      ]
     },
     "execution_count": 8,
     "metadata": {},
     "output_type": "execute_result"
    }
   ],
   "source": [
    "myArray"
   ]
  },
  {
   "cell_type": "code",
   "execution_count": 9,
   "id": "7122f973",
   "metadata": {},
   "outputs": [
    {
     "data": {
      "text/plain": [
       "array.array"
      ]
     },
     "execution_count": 9,
     "metadata": {},
     "output_type": "execute_result"
    }
   ],
   "source": [
    "type(myArray)"
   ]
  },
  {
   "cell_type": "code",
   "execution_count": 10,
   "id": "d0c85243",
   "metadata": {},
   "outputs": [],
   "source": [
    "import sys"
   ]
  },
  {
   "cell_type": "code",
   "execution_count": 11,
   "id": "7e846b78",
   "metadata": {},
   "outputs": [
    {
     "name": "stdout",
     "output_type": "stream",
     "text": [
      "Length: 1 | Size: 88 Bytes\n",
      "Length: 2 | Size: 88 Bytes\n",
      "Length: 3 | Size: 88 Bytes\n",
      "Length: 4 | Size: 88 Bytes\n",
      "Length: 5 | Size: 120 Bytes\n",
      "Length: 6 | Size: 120 Bytes\n",
      "Length: 7 | Size: 120 Bytes\n",
      "Length: 8 | Size: 120 Bytes\n",
      "Length: 9 | Size: 184 Bytes\n",
      "Length: 10 | Size: 184 Bytes\n",
      "Length: 11 | Size: 184 Bytes\n",
      "Length: 12 | Size: 184 Bytes\n",
      "Length: 13 | Size: 184 Bytes\n",
      "Length: 14 | Size: 184 Bytes\n",
      "Length: 15 | Size: 184 Bytes\n",
      "Length: 16 | Size: 184 Bytes\n",
      "Length: 17 | Size: 248 Bytes\n",
      "Length: 18 | Size: 248 Bytes\n",
      "Length: 19 | Size: 248 Bytes\n",
      "Length: 20 | Size: 248 Bytes\n"
     ]
    }
   ],
   "source": [
    "n = 20\n",
    "myDynamicArray = []\n",
    "for i in range(n):\n",
    "    myDynamicArray.append(i)\n",
    "    length = len(myDynamicArray)\n",
    "    size = sys.getsizeof(myDynamicArray)\n",
    "    print(f\"Length: {length} | Size: {size} Bytes\")"
   ]
  },
  {
   "cell_type": "code",
   "execution_count": 12,
   "id": "ee50806a",
   "metadata": {},
   "outputs": [],
   "source": [
    "#1.Contains Duplicate"
   ]
  },
  {
   "cell_type": "code",
   "execution_count": 13,
   "id": "a726111e",
   "metadata": {},
   "outputs": [],
   "source": [
    "myList = [0, 2, 3, 4, 5, 3, 7, 6]\n",
    "myList2 = [0, 2, 3, 4, 1, 7, 5]"
   ]
  },
  {
   "cell_type": "code",
   "execution_count": 14,
   "id": "579730e6",
   "metadata": {},
   "outputs": [],
   "source": [
    "#Time->O(N2)  Space->O(1)\n",
    "def contains_duplicate(number_list):\n",
    "    for i in range(len(number_list)):\n",
    "        for j in range(i+1, len(number_list)):\n",
    "            if i != j and number_list[i] == number_list[j]:\n",
    "                return True\n",
    "    return False            "
   ]
  },
  {
   "cell_type": "code",
   "execution_count": 15,
   "id": "ec7a0ac2",
   "metadata": {},
   "outputs": [
    {
     "data": {
      "text/plain": [
       "True"
      ]
     },
     "execution_count": 15,
     "metadata": {},
     "output_type": "execute_result"
    }
   ],
   "source": [
    "contains_duplicate(myList)\n"
   ]
  },
  {
   "cell_type": "code",
   "execution_count": 16,
   "id": "36b91c4f",
   "metadata": {},
   "outputs": [
    {
     "data": {
      "text/plain": [
       "False"
      ]
     },
     "execution_count": 16,
     "metadata": {},
     "output_type": "execute_result"
    }
   ],
   "source": [
    "contains_duplicate(myList2)"
   ]
  },
  {
   "cell_type": "code",
   "execution_count": 17,
   "id": "bda760b8",
   "metadata": {},
   "outputs": [],
   "source": [
    "#Time->O(N)  Space->O(N)\n",
    "def contains_duplicate2(number_list):\n",
    "    return len(number_list) != len(set(number_list))"
   ]
  },
  {
   "cell_type": "code",
   "execution_count": 18,
   "id": "e4575c23",
   "metadata": {},
   "outputs": [
    {
     "data": {
      "text/plain": [
       "True"
      ]
     },
     "execution_count": 18,
     "metadata": {},
     "output_type": "execute_result"
    }
   ],
   "source": [
    "contains_duplicate2(myList)"
   ]
  },
  {
   "cell_type": "code",
   "execution_count": 19,
   "id": "6bedbf44",
   "metadata": {},
   "outputs": [
    {
     "data": {
      "text/plain": [
       "False"
      ]
     },
     "execution_count": 19,
     "metadata": {},
     "output_type": "execute_result"
    }
   ],
   "source": [
    "contains_duplicate2(myList2)"
   ]
  },
  {
   "cell_type": "code",
   "execution_count": 20,
   "id": "f3ec8cb6",
   "metadata": {},
   "outputs": [],
   "source": [
    "#2.Single Number"
   ]
  },
  {
   "cell_type": "code",
   "execution_count": 21,
   "id": "bad884fb",
   "metadata": {},
   "outputs": [],
   "source": [
    "myList = [0, 2, 2, 0, 5, 3, 5]"
   ]
  },
  {
   "cell_type": "code",
   "execution_count": 22,
   "id": "a47fbc0b",
   "metadata": {},
   "outputs": [],
   "source": [
    "#Time->O(N2)  Space->O(1)\n",
    "def find_single(number_list):\n",
    "    for i in range(len(number_list)):\n",
    "        is_single = True\n",
    "        for j in range(len(number_list)):\n",
    "            if i != j and number_list[i] == number_list[j]:\n",
    "                is_single = False\n",
    "                break\n",
    "        if is_single:\n",
    "            return number_list[i]\n",
    "    return None"
   ]
  },
  {
   "cell_type": "code",
   "execution_count": 23,
   "id": "f3e08cf3",
   "metadata": {},
   "outputs": [
    {
     "data": {
      "text/plain": [
       "3"
      ]
     },
     "execution_count": 23,
     "metadata": {},
     "output_type": "execute_result"
    }
   ],
   "source": [
    "find_single(myList)"
   ]
  },
  {
   "cell_type": "code",
   "execution_count": 24,
   "id": "ba4b9bdd",
   "metadata": {},
   "outputs": [],
   "source": [
    "#By using Dictionary or HashTable! \n",
    "#Time-> O(n) Space-> O(n)\n",
    "def find_single2(number_list):\n",
    "    number_dict = {}\n",
    "    for number in number_list:\n",
    "        number_dict[number] = number_dict[number] + 1 if number in number_dict else 1\n",
    "    return next((number for number, count in number_dict.items() if count == 1), None)"
   ]
  },
  {
   "cell_type": "code",
   "execution_count": 25,
   "id": "4c3c36d2",
   "metadata": {},
   "outputs": [
    {
     "data": {
      "text/plain": [
       "3"
      ]
     },
     "execution_count": 25,
     "metadata": {},
     "output_type": "execute_result"
    }
   ],
   "source": [
    "find_single2(myList)"
   ]
  },
  {
   "cell_type": "code",
   "execution_count": 26,
   "id": "bc65e83c",
   "metadata": {},
   "outputs": [],
   "source": [
    "#XOR Logic Gate! \n",
    "#Time-> O(n) Space-> O(1)\n",
    "def find_single3(number_list):\n",
    "    result = 0\n",
    "    for number in number_list:\n",
    "        result ^= number\n",
    "    return result"
   ]
  },
  {
   "cell_type": "code",
   "execution_count": 27,
   "id": "e2586617",
   "metadata": {},
   "outputs": [
    {
     "data": {
      "text/plain": [
       "3"
      ]
     },
     "execution_count": 27,
     "metadata": {},
     "output_type": "execute_result"
    }
   ],
   "source": [
    "find_single3(myList)"
   ]
  },
  {
   "cell_type": "code",
   "execution_count": 28,
   "id": "e01fadf3",
   "metadata": {},
   "outputs": [],
   "source": [
    "#3.Find Majority Element\n",
    "myList = [5, 5, 5, 5, 3, 3, 2, 5, 1]\n",
    "myList2 = [2, 1, 1, 1, 1, 1, 4]"
   ]
  },
  {
   "cell_type": "code",
   "execution_count": 29,
   "id": "9e444c93",
   "metadata": {},
   "outputs": [],
   "source": [
    "#Time-Complexity->O(n) Space-Complexity->O(n)\n",
    "def find_majority(number_list):\n",
    "    number_dict = {}\n",
    "    highest_noc = 0\n",
    "    for number in number_list:\n",
    "        if number in number_dict:\n",
    "            number_dict[number] += 1\n",
    "        else:\n",
    "            number_dict[number] = 1\n",
    "    for element in number_dict:\n",
    "        if number_dict[element] > highest_noc:\n",
    "            highest_noc = number_dict[element]\n",
    "            highest_noc_number = element\n",
    "    return highest_noc_number\n",
    "        "
   ]
  },
  {
   "cell_type": "code",
   "execution_count": 30,
   "id": "a378a030",
   "metadata": {},
   "outputs": [
    {
     "data": {
      "text/plain": [
       "5"
      ]
     },
     "execution_count": 30,
     "metadata": {},
     "output_type": "execute_result"
    }
   ],
   "source": [
    "find_majority(myList)"
   ]
  },
  {
   "cell_type": "code",
   "execution_count": 31,
   "id": "769445f8",
   "metadata": {},
   "outputs": [
    {
     "data": {
      "text/plain": [
       "1"
      ]
     },
     "execution_count": 31,
     "metadata": {},
     "output_type": "execute_result"
    }
   ],
   "source": [
    "find_majority(myList2)"
   ]
  },
  {
   "cell_type": "code",
   "execution_count": 32,
   "id": "e6523ed1",
   "metadata": {},
   "outputs": [],
   "source": [
    "#It is also O(n) for both complexities but little bit more clear.\n",
    "def find_majority2(number_list):\n",
    "    count = {}\n",
    "    result = 0\n",
    "    maxCount = 0\n",
    "    for number in number_list:\n",
    "        count[number] = 1 + count.get(number, 0)\n",
    "        if count[number] > maxCount:\n",
    "            result = number\n",
    "        maxCount = max(maxCount, count[number])\n",
    "    return result"
   ]
  },
  {
   "cell_type": "code",
   "execution_count": 33,
   "id": "3cfd59a5",
   "metadata": {},
   "outputs": [
    {
     "data": {
      "text/plain": [
       "5"
      ]
     },
     "execution_count": 33,
     "metadata": {},
     "output_type": "execute_result"
    }
   ],
   "source": [
    "find_majority2(myList)"
   ]
  },
  {
   "cell_type": "code",
   "execution_count": 34,
   "id": "af8ad27d",
   "metadata": {},
   "outputs": [
    {
     "data": {
      "text/plain": [
       "1"
      ]
     },
     "execution_count": 34,
     "metadata": {},
     "output_type": "execute_result"
    }
   ],
   "source": [
    "find_majority2(myList2)"
   ]
  },
  {
   "cell_type": "code",
   "execution_count": 35,
   "id": "5394453c",
   "metadata": {},
   "outputs": [],
   "source": [
    "# Time-Complexity ->O(n) Space-Complexity->O(1)\n",
    "def find_majority3(nums):\n",
    "    majority_number = 0\n",
    "    count = 0\n",
    "    for num in nums:\n",
    "        if count == 0:\n",
    "            majority_number = num\n",
    "        count += 1 if num == majority_number else -1\n",
    "    return majority_number"
   ]
  },
  {
   "cell_type": "code",
   "execution_count": 36,
   "id": "a363f51c",
   "metadata": {},
   "outputs": [
    {
     "data": {
      "text/plain": [
       "5"
      ]
     },
     "execution_count": 36,
     "metadata": {},
     "output_type": "execute_result"
    }
   ],
   "source": [
    "find_majority3(myList)"
   ]
  },
  {
   "cell_type": "code",
   "execution_count": 37,
   "id": "8819128b",
   "metadata": {},
   "outputs": [
    {
     "data": {
      "text/plain": [
       "1"
      ]
     },
     "execution_count": 37,
     "metadata": {},
     "output_type": "execute_result"
    }
   ],
   "source": [
    "find_majority3(myList2)"
   ]
  }
 ],
 "metadata": {
  "kernelspec": {
   "display_name": "Python 3 (ipykernel)",
   "language": "python",
   "name": "python3"
  },
  "language_info": {
   "codemirror_mode": {
    "name": "ipython",
    "version": 3
   },
   "file_extension": ".py",
   "mimetype": "text/x-python",
   "name": "python",
   "nbconvert_exporter": "python",
   "pygments_lexer": "ipython3",
   "version": "3.10.9"
  }
 },
 "nbformat": 4,
 "nbformat_minor": 5
}
