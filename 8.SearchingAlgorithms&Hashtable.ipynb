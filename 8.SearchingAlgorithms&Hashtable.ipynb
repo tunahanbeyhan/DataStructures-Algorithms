{
 "cells": [
  {
   "cell_type": "code",
   "execution_count": 1,
   "id": "eaac0e8a",
   "metadata": {},
   "outputs": [],
   "source": [
    "#Searching algorithms are algorithms to find a specific element or value in a collection of data.\n",
    "#Some commonly used searching algos include sequential search, binary search, and hash-based search.\n",
    "\n",
    "#SequentialSearch: Checks each element in a collection until the target element is found or the entire collection is traversed. \n",
    "#Linear search has a time complexity of O(n) in the worst case, where n is the size of the collection.\n",
    "\n",
    "#BinarySearch: Works on a sorted collection, repeatedly divides the collection and compares the target element with mid one. \n",
    "#Based on the comparison, it eliminates half of the remaining elements and continues the search in the remaining half. \n",
    "#Binary search has a time complexity of O(log n) in the worst case. However, it requires the collection to be sorted beforehand.\n",
    "\n",
    "#Hash-based Algorithms: These algorithms use hash functions and data structures to store and retrieve data efficiently.\n",
    "#Hash functions map data to specific locations (buckets) in the data structure, allowing for quick access. \n",
    "#Common hash-based search algorithms include direct addressing, separate chaining, and open addressing. \n",
    "#The time complexity of hash-based search algorithms is typically O(1) on average, providing fast lookup times."
   ]
  },
  {
   "cell_type": "code",
   "execution_count": 2,
   "id": "f3f56012",
   "metadata": {},
   "outputs": [],
   "source": [
    "#Search Codes\n",
    "class searchingAlgorithms:\n",
    "    def sequentialSearchUnordered(self, unorderedlist, number):\n",
    "        ix = 0\n",
    "        found = False\n",
    "        while ix < len(unorderedlist) and not found:\n",
    "            if unorderedlist[ix] == number:\n",
    "                found = True\n",
    "            else:\n",
    "                ix += 1\n",
    "        return found\n",
    "        \n",
    "    \n",
    "    def sequentialSearchOrdered(self, orderedlist, number):\n",
    "        ix = 0\n",
    "        found = False\n",
    "        toobig = False\n",
    "        while ix < len(orderedlist) and not found and not toobig:\n",
    "            if orderedlist[ix] == number:\n",
    "                found = True\n",
    "            elif orderedlist[ix] > number:\n",
    "                toobig = True\n",
    "            else:\n",
    "                ix += 1\n",
    "        return found\n",
    "        \n",
    "    \n",
    "    def binarySearch(self, orderedlist, number):\n",
    "        firstPointer = 0\n",
    "        lastPointer = len(orderedlist) - 1\n",
    "        found = False\n",
    "        while firstPointer <= lastPointer and not found:\n",
    "            midPoint = (firstPointer + lastPointer) // 2\n",
    "            if orderedlist[midPoint] == number:\n",
    "                found = True\n",
    "            elif orderedlist[midPoint] > number:\n",
    "                lastPointer = midPoint - 1\n",
    "            else:\n",
    "                firstPointer = midPoint + 1\n",
    "        return found"
   ]
  },
  {
   "cell_type": "code",
   "execution_count": 3,
   "id": "a173b5be",
   "metadata": {},
   "outputs": [
    {
     "data": {
      "text/plain": [
       "False"
      ]
     },
     "execution_count": 3,
     "metadata": {},
     "output_type": "execute_result"
    }
   ],
   "source": [
    "unorderedlist = [2, 3, 4, 9, 51, 31, 99, 23, 18, 11]\n",
    "orderedlist = [5, 6, 8, 10, 12, 15, 16, 19, 23, 25, 29, 31, 35, 40]\n",
    "searchingAlgorithm = searchingAlgorithms()\n",
    "searchingAlgorithm.sequentialSearchUnordered(unorderedlist, 5)"
   ]
  },
  {
   "cell_type": "code",
   "execution_count": 4,
   "id": "25189e77",
   "metadata": {},
   "outputs": [
    {
     "data": {
      "text/plain": [
       "True"
      ]
     },
     "execution_count": 4,
     "metadata": {},
     "output_type": "execute_result"
    }
   ],
   "source": [
    "searchingAlgorithm.sequentialSearchUnordered(unorderedlist, 31)"
   ]
  },
  {
   "cell_type": "code",
   "execution_count": 5,
   "id": "39a440ea",
   "metadata": {},
   "outputs": [
    {
     "data": {
      "text/plain": [
       "False"
      ]
     },
     "execution_count": 5,
     "metadata": {},
     "output_type": "execute_result"
    }
   ],
   "source": [
    "searchingAlgorithm = searchingAlgorithms()\n",
    "searchingAlgorithm.sequentialSearchOrdered(orderedlist, 41)"
   ]
  },
  {
   "cell_type": "code",
   "execution_count": 6,
   "id": "c6d2bc0f",
   "metadata": {},
   "outputs": [
    {
     "data": {
      "text/plain": [
       "True"
      ]
     },
     "execution_count": 6,
     "metadata": {},
     "output_type": "execute_result"
    }
   ],
   "source": [
    "searchingAlgorithm = searchingAlgorithms()\n",
    "searchingAlgorithm.binarySearch(orderedlist, 31)"
   ]
  },
  {
   "cell_type": "code",
   "execution_count": 7,
   "id": "c2e8d2ce",
   "metadata": {},
   "outputs": [],
   "source": [
    "#myHash Function\n",
    "def hash_function(key):\n",
    "        return (sum(index * ord(character) for index, character in enumerate(repr(key).lstrip(\"'\"))))"
   ]
  },
  {
   "cell_type": "code",
   "execution_count": 8,
   "id": "23ca450b",
   "metadata": {},
   "outputs": [
    {
     "data": {
      "text/plain": [
       "1259"
      ]
     },
     "execution_count": 8,
     "metadata": {},
     "output_type": "execute_result"
    }
   ],
   "source": [
    "hash_function(\"apple\")"
   ]
  },
  {
   "cell_type": "code",
   "execution_count": 9,
   "id": "05124724",
   "metadata": {},
   "outputs": [],
   "source": [
    "#Hashtable Implementation\n",
    "class HashTable:\n",
    "    \n",
    "    def __init__(self, size=13):\n",
    "        self.dataMap = [None] * size\n",
    "        \n",
    "    def hash_function(self, key):\n",
    "        return (sum(index * ord(character) for index, character in enumerate(repr(key).lstrip(\"'\"))) % len(self.dataMap))\n",
    "    \n",
    "    def setItem(self, key, value):\n",
    "        index = self.hash_function(key)\n",
    "        if self.dataMap[index] == None:\n",
    "            self.dataMap[index] = []\n",
    "        self.dataMap[index].append([key, value])\n",
    "    \n",
    "    def getItem(self, key):\n",
    "        index = self.hash_function(key)\n",
    "        if self.dataMap[index] is not None:\n",
    "            for i in range(len(self.dataMap[index])):\n",
    "                if self.dataMap[index][i][0] == key:\n",
    "                    return self.dataMap[index][i][1]\n",
    "        return None\n",
    "    \n",
    "    def getKeys(self):\n",
    "        keys = []\n",
    "        for i in range(len(self.dataMap)):\n",
    "            if self.dataMap[i] is not None:\n",
    "                for j in range(len(self.dataMap[i])):\n",
    "                    keys.append(self.dataMap[i][j][0])\n",
    "        return keys\n",
    "    \n",
    "    def printTable(self):\n",
    "        for index, value in enumerate(self.dataMap):\n",
    "            print(f\"{index} -> {value}\")"
   ]
  },
  {
   "cell_type": "code",
   "execution_count": 10,
   "id": "fe79524c",
   "metadata": {},
   "outputs": [],
   "source": [
    "myHashTable = HashTable()\n",
    "myHashTable.setItem('Apple',75)\n",
    "myHashTable.setItem('Banana',100)\n",
    "myHashTable.setItem('Melon',125)\n",
    "myHashTable.setItem('Lemon',25)\n",
    "myHashTable.setItem('Cucumber',31)\n",
    "myHashTable.setItem('Avacado',85)"
   ]
  },
  {
   "cell_type": "code",
   "execution_count": 11,
   "id": "eb0e57fb",
   "metadata": {},
   "outputs": [
    {
     "data": {
      "text/plain": [
       "[[['Lemon', 25]],\n",
       " None,\n",
       " None,\n",
       " None,\n",
       " None,\n",
       " [['Avacado', 85]],\n",
       " [['Cucumber', 31]],\n",
       " None,\n",
       " None,\n",
       " None,\n",
       " None,\n",
       " [['Apple', 75], ['Melon', 125]],\n",
       " [['Banana', 100]]]"
      ]
     },
     "execution_count": 11,
     "metadata": {},
     "output_type": "execute_result"
    }
   ],
   "source": [
    "myHashTable.dataMap"
   ]
  },
  {
   "cell_type": "code",
   "execution_count": 12,
   "id": "c5001f4d",
   "metadata": {},
   "outputs": [
    {
     "data": {
      "text/plain": [
       "25"
      ]
     },
     "execution_count": 12,
     "metadata": {},
     "output_type": "execute_result"
    }
   ],
   "source": [
    "myHashTable.getItem(\"Lemon\")"
   ]
  },
  {
   "cell_type": "code",
   "execution_count": 13,
   "id": "e5b72350",
   "metadata": {},
   "outputs": [],
   "source": [
    "myHashTable.getItem(\"Kebab\")"
   ]
  },
  {
   "cell_type": "code",
   "execution_count": 14,
   "id": "40bc66da",
   "metadata": {},
   "outputs": [
    {
     "data": {
      "text/plain": [
       "['Lemon', 'Avacado', 'Cucumber', 'Apple', 'Melon', 'Banana']"
      ]
     },
     "execution_count": 14,
     "metadata": {},
     "output_type": "execute_result"
    }
   ],
   "source": [
    "myHashTable.getKeys()"
   ]
  },
  {
   "cell_type": "code",
   "execution_count": 15,
   "id": "5094b797",
   "metadata": {},
   "outputs": [
    {
     "name": "stdout",
     "output_type": "stream",
     "text": [
      "0 -> [['Lemon', 25]]\n",
      "1 -> None\n",
      "2 -> None\n",
      "3 -> None\n",
      "4 -> None\n",
      "5 -> [['Avacado', 85]]\n",
      "6 -> [['Cucumber', 31]]\n",
      "7 -> None\n",
      "8 -> None\n",
      "9 -> None\n",
      "10 -> None\n",
      "11 -> [['Apple', 75], ['Melon', 125]]\n",
      "12 -> [['Banana', 100]]\n"
     ]
    }
   ],
   "source": [
    "myHashTable.printTable()"
   ]
  },
  {
   "cell_type": "code",
   "execution_count": 16,
   "id": "49597137",
   "metadata": {},
   "outputs": [],
   "source": [
    "#1.Two Sum\n",
    "#Input: nums = [2,7,11,15], target = 9\n",
    "#Output: [0,1]\n",
    "#Explanation: Because nums[0] + nums[1] == 9, we return [0, 1]."
   ]
  },
  {
   "cell_type": "code",
   "execution_count": 17,
   "id": "aa6077cf",
   "metadata": {},
   "outputs": [
    {
     "data": {
      "text/plain": [
       "[2, 3]"
      ]
     },
     "execution_count": 17,
     "metadata": {},
     "output_type": "execute_result"
    }
   ],
   "source": [
    "#Time-Complexity-> O(n2)   | Space-Complexity-> O(1)\n",
    "nums = [2,7,11,13]\n",
    "target = 24\n",
    "\n",
    "def twosum(nums, target):\n",
    "    for i in range(len(nums)):\n",
    "        for j in range(i+1, len(nums)):\n",
    "            if (nums[i] + nums[j]) == target:\n",
    "                return [i, j]\n",
    "    return False\n",
    "twosum(nums, target)    "
   ]
  },
  {
   "cell_type": "code",
   "execution_count": 18,
   "id": "fb17f909",
   "metadata": {},
   "outputs": [
    {
     "data": {
      "text/plain": [
       "[2, 3]"
      ]
     },
     "execution_count": 18,
     "metadata": {},
     "output_type": "execute_result"
    }
   ],
   "source": [
    "#Time-Complexity-> O(n)   | Space-Complexity-> O(n)\n",
    "def twosum2(nums, target):\n",
    "    num_dict = {}\n",
    "    for i, number in enumerate(nums):\n",
    "        increment = target - number\n",
    "        if increment in num_dict:\n",
    "            return [num_dict[increment], i]\n",
    "        num_dict[number] = i\n",
    "    return False\n",
    "\n",
    "twosum2(nums, target)"
   ]
  },
  {
   "cell_type": "code",
   "execution_count": null,
   "id": "0b764288",
   "metadata": {},
   "outputs": [],
   "source": [
    "#2.Tiny URL"
   ]
  },
  {
   "cell_type": "code",
   "execution_count": 19,
   "id": "4079e39c",
   "metadata": {},
   "outputs": [],
   "source": [
    "class Codec:\n",
    "    \n",
    "    def __init__(self):\n",
    "        self.baseurl = \"http://tinyurl.com/\"\n",
    "        self.encodeMap = {}\n",
    "        self.decodeMap = {}\n",
    "\n",
    "    def encode(self, longUrl: str) -> str:\n",
    "        if longUrl not in self.encodeMap:\n",
    "            shortUrl = self.baseurl + str(len(self.encodeMap))\n",
    "            self.encodeMap[longUrl] = shortUrl\n",
    "            self.decodeMap[shortUrl] = longUrl\n",
    "        return self.encodeMap[longUrl]\n",
    "        \n",
    "    def decode(self, shortUrl: str) -> str:\n",
    "        return self.decodeMap[shortUrl] if shortUrl in self.decodeMap else None"
   ]
  },
  {
   "cell_type": "code",
   "execution_count": 20,
   "id": "d8d4a60d",
   "metadata": {},
   "outputs": [],
   "source": [
    "myCodec = Codec()"
   ]
  },
  {
   "cell_type": "code",
   "execution_count": 21,
   "id": "436ba2bf",
   "metadata": {},
   "outputs": [
    {
     "data": {
      "text/plain": [
       "'http://tinyurl.com/4'"
      ]
     },
     "execution_count": 21,
     "metadata": {},
     "output_type": "execute_result"
    }
   ],
   "source": [
    "myCodec.encode(\"https://tr.investing.com/currencies/usd-try\")\n",
    "myCodec.encode(\"https://aggr.trade/sk4d\")\n",
    "myCodec.encode(\"https://www.binance.com/tr/trade/EGLD_USDT?theme=dark&type=spot\")\n",
    "myCodec.encode(\"https://ethw.2miners.com/search\")\n",
    "myCodec.encode(\"https://app.jexchange.io/searchoffers\")\n"
   ]
  },
  {
   "cell_type": "code",
   "execution_count": 22,
   "id": "1f6662f4",
   "metadata": {},
   "outputs": [
    {
     "data": {
      "text/plain": [
       "'https://tr.investing.com/currencies/usd-try'"
      ]
     },
     "execution_count": 22,
     "metadata": {},
     "output_type": "execute_result"
    }
   ],
   "source": [
    "myCodec.decode(\"http://tinyurl.com/0\")"
   ]
  },
  {
   "cell_type": "code",
   "execution_count": 23,
   "id": "c6f38d72",
   "metadata": {},
   "outputs": [],
   "source": [
    "#3.Brick Wall\n",
    "#Input: wall = [[1,2,2,1],[3,1,2],[1,3,2],[2,4],[3,1,2],[1,3,1,1]]\n",
    "#Output: 2"
   ]
  },
  {
   "cell_type": "code",
   "execution_count": 24,
   "id": "0e1604b0",
   "metadata": {},
   "outputs": [],
   "source": [
    "class Solution:\n",
    "    def leastBricks(self, wall):\n",
    "        rowNumber = len(wall)\n",
    "        columnNumber = sum(wall[0])\n",
    "        myHashTable = {}\n",
    "        current_max = 0\n",
    "        for i in range(1, columnNumber):\n",
    "            myHashTable[i] = 0\n",
    "        for row in wall:\n",
    "            row_sum = 0\n",
    "            for brick in row[:-1]:\n",
    "                row_sum += brick\n",
    "                myHashTable[row_sum] += 1\n",
    "                current_max = max(current_max, myHashTable[row_sum])\n",
    "        return columnNumber - current_max"
   ]
  },
  {
   "cell_type": "code",
   "execution_count": 25,
   "id": "575987ee",
   "metadata": {},
   "outputs": [
    {
     "data": {
      "text/plain": [
       "2"
      ]
     },
     "execution_count": 25,
     "metadata": {},
     "output_type": "execute_result"
    }
   ],
   "source": [
    "wall = [[1,2,2,1],[3,1,2],[1,3,2],[2,4],[3,1,2],[1,3,1,1]]\n",
    "solution = Solution()\n",
    "solution.leastBricks(wall)"
   ]
  }
 ],
 "metadata": {
  "kernelspec": {
   "display_name": "Python 3 (ipykernel)",
   "language": "python",
   "name": "python3"
  },
  "language_info": {
   "codemirror_mode": {
    "name": "ipython",
    "version": 3
   },
   "file_extension": ".py",
   "mimetype": "text/x-python",
   "name": "python",
   "nbconvert_exporter": "python",
   "pygments_lexer": "ipython3",
   "version": "3.10.9"
  }
 },
 "nbformat": 4,
 "nbformat_minor": 5
}
